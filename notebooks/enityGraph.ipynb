{
 "cells": [
  {
   "metadata": {},
   "cell_type": "markdown",
   "source": [
    "# Simple visual\n",
    "\n",
    "Take the data from LanceDB and form up some dataframes to load up KuzuDB with.  Then do a few simple visualizations to see relations.\n",
    "\n",
    "Next steps:\n",
    "- https://docs.kuzudb.com/extensions/vector/\n",
    "- https://docs.kuzudb.com/extensions/full-text-search/\n"
   ],
   "id": "397b0c608ae268b5"
  },
  {
   "metadata": {
    "ExecuteTime": {
     "end_time": "2025-05-29T17:42:42.427061Z",
     "start_time": "2025-05-29T17:42:39.972267Z"
    }
   },
   "cell_type": "code",
   "source": [
    "import kuzu\n",
    "from yfiles_jupyter_graphs_for_kuzu import KuzuGraphWidget\n",
    "import lancedb\n",
    "import pandas as pd\n",
    "import hashlib\n",
    "from sentence_transformers import SentenceTransformer\n"
   ],
   "id": "ba1b9f70812bcb8d",
   "outputs": [],
   "execution_count": 1
  },
  {
   "metadata": {
    "ExecuteTime": {
     "end_time": "2025-05-29T17:42:42.549473Z",
     "start_time": "2025-05-29T17:42:42.529399Z"
    }
   },
   "cell_type": "code",
   "source": [
    "db = lancedb.connect(\"../lancedb\")\n",
    "\n",
    "sources_df = pd.DataFrame(db.open_table(\"sources\").to_pandas())\n",
    "claims_df = pd.DataFrame(db.open_table(\"claims\").to_pandas())\n",
    "entities_df = pd.DataFrame(db.open_table(\"entities\").to_pandas())\n"
   ],
   "id": "ce0439fcb86b4fbf",
   "outputs": [],
   "execution_count": 2
  },
  {
   "metadata": {
    "ExecuteTime": {
     "end_time": "2025-05-29T17:42:42.586538Z",
     "start_time": "2025-05-29T17:42:42.583879Z"
    }
   },
   "cell_type": "code",
   "source": [
    "print(sources_df.columns.values)\n",
    "print(\"---------------------------------\")\n",
    "print(claims_df.columns.values)\n",
    "print(\"---------------------------------\")\n",
    "print(entities_df.columns.values)\n"
   ],
   "id": "c463d12a5e5ae293",
   "outputs": [
    {
     "name": "stdout",
     "output_type": "stream",
     "text": [
      "['filename' 'id' 'location' 'markdown']\n",
      "---------------------------------\n",
      "['filename' 'node_name' 'index' 'text']\n",
      "---------------------------------\n",
      "['start' 'end' 'text' 'label' 'score' 'filename' 'nodename' 'index']\n"
     ]
    }
   ],
   "execution_count": 3
  },
  {
   "metadata": {},
   "cell_type": "markdown",
   "source": "Based on the above, I could make \"from\" and \"to\" columns in all of these.  Then also make a node_id and name for all of them as well.",
   "id": "9ef109489dd44607"
  },
  {
   "metadata": {},
   "cell_type": "markdown",
   "source": [
    "## Look at Sources\n",
    "\n",
    "No need to modify this table"
   ],
   "id": "4b9c004e0feb8d86"
  },
  {
   "metadata": {
    "ExecuteTime": {
     "end_time": "2025-05-29T17:42:42.644522Z",
     "start_time": "2025-05-29T17:42:42.635918Z"
    }
   },
   "cell_type": "code",
   "source": "sources_df",
   "id": "c58a8abe3c3e6714",
   "outputs": [
    {
     "data": {
      "text/plain": [
       "           filename                                id  \\\n",
       "0  2202.05901v2.pdf  2c494b74cd387935028898cf4d998e1c   \n",
       "1  2409.09230v1.pdf  824512f309bf431858125747565b05f6   \n",
       "2           source3  08260e29029420a6ba81dcc7cd7dc033   \n",
       "\n",
       "                                        location  \\\n",
       "0          file://stores/inputs/2202.05901v2.pdf   \n",
       "1          file://stores/inputs/2409.09230v1.pdf   \n",
       "2  https://gc.copernicus.org/articles/2/55/2019/   \n",
       "\n",
       "                                            markdown  \n",
       "0  ## Page 1\\n\\nIdentiﬁcation of Flux Rope Orient...  \n",
       "1  ## Page 1\\n\\nSolar Physics\\nDOI: 10.1007/ ••••...  \n",
       "2  ![](https://contentmanager.copernicus.org/8009...  "
      ],
      "text/html": [
       "<div>\n",
       "<style scoped>\n",
       "    .dataframe tbody tr th:only-of-type {\n",
       "        vertical-align: middle;\n",
       "    }\n",
       "\n",
       "    .dataframe tbody tr th {\n",
       "        vertical-align: top;\n",
       "    }\n",
       "\n",
       "    .dataframe thead th {\n",
       "        text-align: right;\n",
       "    }\n",
       "</style>\n",
       "<table border=\"1\" class=\"dataframe\">\n",
       "  <thead>\n",
       "    <tr style=\"text-align: right;\">\n",
       "      <th></th>\n",
       "      <th>filename</th>\n",
       "      <th>id</th>\n",
       "      <th>location</th>\n",
       "      <th>markdown</th>\n",
       "    </tr>\n",
       "  </thead>\n",
       "  <tbody>\n",
       "    <tr>\n",
       "      <th>0</th>\n",
       "      <td>2202.05901v2.pdf</td>\n",
       "      <td>2c494b74cd387935028898cf4d998e1c</td>\n",
       "      <td>file://stores/inputs/2202.05901v2.pdf</td>\n",
       "      <td>## Page 1\\n\\nIdentiﬁcation of Flux Rope Orient...</td>\n",
       "    </tr>\n",
       "    <tr>\n",
       "      <th>1</th>\n",
       "      <td>2409.09230v1.pdf</td>\n",
       "      <td>824512f309bf431858125747565b05f6</td>\n",
       "      <td>file://stores/inputs/2409.09230v1.pdf</td>\n",
       "      <td>## Page 1\\n\\nSolar Physics\\nDOI: 10.1007/ ••••...</td>\n",
       "    </tr>\n",
       "    <tr>\n",
       "      <th>2</th>\n",
       "      <td>source3</td>\n",
       "      <td>08260e29029420a6ba81dcc7cd7dc033</td>\n",
       "      <td>https://gc.copernicus.org/articles/2/55/2019/</td>\n",
       "      <td>![](https://contentmanager.copernicus.org/8009...</td>\n",
       "    </tr>\n",
       "  </tbody>\n",
       "</table>\n",
       "</div>"
      ]
     },
     "execution_count": 4,
     "metadata": {},
     "output_type": "execute_result"
    }
   ],
   "execution_count": 4
  },
  {
   "metadata": {},
   "cell_type": "markdown",
   "source": [
    "## Update the claims\n",
    "\n",
    "Need to make an ID, would likely do this in the generation phase in the end"
   ],
   "id": "1c6545faeccc42b1"
  },
  {
   "metadata": {
    "ExecuteTime": {
     "end_time": "2025-05-29T17:42:42.868563Z",
     "start_time": "2025-05-29T17:42:42.865998Z"
    }
   },
   "cell_type": "code",
   "source": "claims_df['composite_id'] = claims_df['filename'] + '_' + claims_df['node_name'] + '_' + claims_df['index'].astype(str)",
   "id": "d3b9181dadd4b32a",
   "outputs": [],
   "execution_count": 5
  },
  {
   "metadata": {
    "ExecuteTime": {
     "end_time": "2025-05-29T17:42:42.932348Z",
     "start_time": "2025-05-29T17:42:42.926918Z"
    }
   },
   "cell_type": "code",
   "source": "claims_df",
   "id": "56e58e7cfee1c734",
   "outputs": [
    {
     "data": {
      "text/plain": [
       "            filename   node_name  index  \\\n",
       "0   2202.05901v2.pdf    Cardinal      0   \n",
       "1   2202.05901v2.pdf    Cardinal      1   \n",
       "2   2202.05901v2.pdf    Cardinal      2   \n",
       "3   2202.05901v2.pdf  Supporting      0   \n",
       "4   2202.05901v2.pdf  Supporting      1   \n",
       "..               ...         ...    ...   \n",
       "71           source3    Cardinal      2   \n",
       "72           source3  Supporting      0   \n",
       "73           source3  Supporting      1   \n",
       "74           source3  Supporting      2   \n",
       "75           source3  Supporting      3   \n",
       "\n",
       "                                                 text  \\\n",
       "0   This study demonstrates a convolutional neural...   \n",
       "1   The neural networks trained with full and part...   \n",
       "2   The accuracy of the neural network in predicti...   \n",
       "3   Focusing on the convolutional neural network's...   \n",
       "4   98,000 synthetic flux ropes of varying orienta...   \n",
       "..                                                ...   \n",
       "71  Scientometric analysis of keyword usage can re...   \n",
       "72  The data was collected from 17 years of AGU Fa...   \n",
       "73  Network density and connected components were ...   \n",
       "74  Keyword analysis was performed using AGU's key...   \n",
       "75  The analysis software and dataset are freely a...   \n",
       "\n",
       "                     composite_id  \n",
       "0     2202.05901v2.pdf_Cardinal_0  \n",
       "1     2202.05901v2.pdf_Cardinal_1  \n",
       "2     2202.05901v2.pdf_Cardinal_2  \n",
       "3   2202.05901v2.pdf_Supporting_0  \n",
       "4   2202.05901v2.pdf_Supporting_1  \n",
       "..                            ...  \n",
       "71             source3_Cardinal_2  \n",
       "72           source3_Supporting_0  \n",
       "73           source3_Supporting_1  \n",
       "74           source3_Supporting_2  \n",
       "75           source3_Supporting_3  \n",
       "\n",
       "[76 rows x 5 columns]"
      ],
      "text/html": [
       "<div>\n",
       "<style scoped>\n",
       "    .dataframe tbody tr th:only-of-type {\n",
       "        vertical-align: middle;\n",
       "    }\n",
       "\n",
       "    .dataframe tbody tr th {\n",
       "        vertical-align: top;\n",
       "    }\n",
       "\n",
       "    .dataframe thead th {\n",
       "        text-align: right;\n",
       "    }\n",
       "</style>\n",
       "<table border=\"1\" class=\"dataframe\">\n",
       "  <thead>\n",
       "    <tr style=\"text-align: right;\">\n",
       "      <th></th>\n",
       "      <th>filename</th>\n",
       "      <th>node_name</th>\n",
       "      <th>index</th>\n",
       "      <th>text</th>\n",
       "      <th>composite_id</th>\n",
       "    </tr>\n",
       "  </thead>\n",
       "  <tbody>\n",
       "    <tr>\n",
       "      <th>0</th>\n",
       "      <td>2202.05901v2.pdf</td>\n",
       "      <td>Cardinal</td>\n",
       "      <td>0</td>\n",
       "      <td>This study demonstrates a convolutional neural...</td>\n",
       "      <td>2202.05901v2.pdf_Cardinal_0</td>\n",
       "    </tr>\n",
       "    <tr>\n",
       "      <th>1</th>\n",
       "      <td>2202.05901v2.pdf</td>\n",
       "      <td>Cardinal</td>\n",
       "      <td>1</td>\n",
       "      <td>The neural networks trained with full and part...</td>\n",
       "      <td>2202.05901v2.pdf_Cardinal_1</td>\n",
       "    </tr>\n",
       "    <tr>\n",
       "      <th>2</th>\n",
       "      <td>2202.05901v2.pdf</td>\n",
       "      <td>Cardinal</td>\n",
       "      <td>2</td>\n",
       "      <td>The accuracy of the neural network in predicti...</td>\n",
       "      <td>2202.05901v2.pdf_Cardinal_2</td>\n",
       "    </tr>\n",
       "    <tr>\n",
       "      <th>3</th>\n",
       "      <td>2202.05901v2.pdf</td>\n",
       "      <td>Supporting</td>\n",
       "      <td>0</td>\n",
       "      <td>Focusing on the convolutional neural network's...</td>\n",
       "      <td>2202.05901v2.pdf_Supporting_0</td>\n",
       "    </tr>\n",
       "    <tr>\n",
       "      <th>4</th>\n",
       "      <td>2202.05901v2.pdf</td>\n",
       "      <td>Supporting</td>\n",
       "      <td>1</td>\n",
       "      <td>98,000 synthetic flux ropes of varying orienta...</td>\n",
       "      <td>2202.05901v2.pdf_Supporting_1</td>\n",
       "    </tr>\n",
       "    <tr>\n",
       "      <th>...</th>\n",
       "      <td>...</td>\n",
       "      <td>...</td>\n",
       "      <td>...</td>\n",
       "      <td>...</td>\n",
       "      <td>...</td>\n",
       "    </tr>\n",
       "    <tr>\n",
       "      <th>71</th>\n",
       "      <td>source3</td>\n",
       "      <td>Cardinal</td>\n",
       "      <td>2</td>\n",
       "      <td>Scientometric analysis of keyword usage can re...</td>\n",
       "      <td>source3_Cardinal_2</td>\n",
       "    </tr>\n",
       "    <tr>\n",
       "      <th>72</th>\n",
       "      <td>source3</td>\n",
       "      <td>Supporting</td>\n",
       "      <td>0</td>\n",
       "      <td>The data was collected from 17 years of AGU Fa...</td>\n",
       "      <td>source3_Supporting_0</td>\n",
       "    </tr>\n",
       "    <tr>\n",
       "      <th>73</th>\n",
       "      <td>source3</td>\n",
       "      <td>Supporting</td>\n",
       "      <td>1</td>\n",
       "      <td>Network density and connected components were ...</td>\n",
       "      <td>source3_Supporting_1</td>\n",
       "    </tr>\n",
       "    <tr>\n",
       "      <th>74</th>\n",
       "      <td>source3</td>\n",
       "      <td>Supporting</td>\n",
       "      <td>2</td>\n",
       "      <td>Keyword analysis was performed using AGU's key...</td>\n",
       "      <td>source3_Supporting_2</td>\n",
       "    </tr>\n",
       "    <tr>\n",
       "      <th>75</th>\n",
       "      <td>source3</td>\n",
       "      <td>Supporting</td>\n",
       "      <td>3</td>\n",
       "      <td>The analysis software and dataset are freely a...</td>\n",
       "      <td>source3_Supporting_3</td>\n",
       "    </tr>\n",
       "  </tbody>\n",
       "</table>\n",
       "<p>76 rows × 5 columns</p>\n",
       "</div>"
      ]
     },
     "execution_count": 6,
     "metadata": {},
     "output_type": "execute_result"
    }
   ],
   "execution_count": 6
  },
  {
   "metadata": {},
   "cell_type": "markdown",
   "source": [
    "## Update entities\n",
    "\n",
    "Make some ids for use in building the network later.\n",
    "\n",
    "Again, this is likely something we would want to do at generation time, not a post process event"
   ],
   "id": "428523ea76730099"
  },
  {
   "metadata": {
    "ExecuteTime": {
     "end_time": "2025-05-29T17:42:42.999384Z",
     "start_time": "2025-05-29T17:42:42.996938Z"
    }
   },
   "cell_type": "code",
   "source": "entities_df['text_md5'] = entities_df['text'].apply(lambda x: hashlib.md5(str(x).encode()).hexdigest())",
   "id": "3c5eadfb5920a92d",
   "outputs": [],
   "execution_count": 7
  },
  {
   "metadata": {
    "ExecuteTime": {
     "end_time": "2025-05-29T17:42:43.098677Z",
     "start_time": "2025-05-29T17:42:43.095756Z"
    }
   },
   "cell_type": "code",
   "source": "entities_df['composite_id'] = entities_df['filename'] + '_' + entities_df['nodename'] + '_' + entities_df['index'].astype(str)",
   "id": "895b01e39834953d",
   "outputs": [],
   "execution_count": 8
  },
  {
   "metadata": {
    "ExecuteTime": {
     "end_time": "2025-05-29T17:42:43.160918Z",
     "start_time": "2025-05-29T17:42:43.154159Z"
    }
   },
   "cell_type": "code",
   "source": "entities_df",
   "id": "1a82fefb5c02eace",
   "outputs": [
    {
     "data": {
      "text/plain": [
       "     start  end                          text     label     score  \\\n",
       "0       26   54  convolutional neural network     Model  0.802835   \n",
       "1       58   61                           CNN     Model  0.624678   \n",
       "2      116  127                   orientation    Metric  0.650835   \n",
       "3      129  145              impact parameter    Metric  0.847192   \n",
       "4      151  160                     chirality    Metric  0.788682   \n",
       "..     ...  ...                           ...       ...       ...   \n",
       "158    183  203          connected components    System  0.633513   \n",
       "159      0    7                       Keyword   Keyword  0.769558   \n",
       "160     37   40                           AGU   Journal  0.525274   \n",
       "161      4   21             analysis software  Software  0.767122   \n",
       "162     26   33                       dataset   Dataset  0.868541   \n",
       "\n",
       "             filename    nodename  index                          text_md5  \\\n",
       "0    2202.05901v2.pdf    Cardinal      0  74c081a322a1b6000c9a79efe486c029   \n",
       "1    2202.05901v2.pdf    Cardinal      0  2435a45b85628172c5a47122144a7c67   \n",
       "2    2202.05901v2.pdf    Cardinal      0  da1639422ad8f355d2371428471379b5   \n",
       "3    2202.05901v2.pdf    Cardinal      0  8abe3c2e3dce9d23c0dcb3a60be1d595   \n",
       "4    2202.05901v2.pdf    Cardinal      0  a0cbfd960a9ddd3fa2ad063f48d1d4dd   \n",
       "..                ...         ...    ...                               ...   \n",
       "158           source3  Supporting      1  4f075a5c6b893a805fb941a4db775c4a   \n",
       "159           source3  Supporting      2  220f3d3750583b9db48568a0b5b9a5f1   \n",
       "160           source3  Supporting      2  75dc08b63d6e7e50cf5fa69ea6b03193   \n",
       "161           source3  Supporting      3  fb3cda0a5978a3d4822436ebd6ccfd12   \n",
       "162           source3  Supporting      3  3c4d09e4ef50b370ae0efacdb43ec2dd   \n",
       "\n",
       "                    composite_id  \n",
       "0    2202.05901v2.pdf_Cardinal_0  \n",
       "1    2202.05901v2.pdf_Cardinal_0  \n",
       "2    2202.05901v2.pdf_Cardinal_0  \n",
       "3    2202.05901v2.pdf_Cardinal_0  \n",
       "4    2202.05901v2.pdf_Cardinal_0  \n",
       "..                           ...  \n",
       "158         source3_Supporting_1  \n",
       "159         source3_Supporting_2  \n",
       "160         source3_Supporting_2  \n",
       "161         source3_Supporting_3  \n",
       "162         source3_Supporting_3  \n",
       "\n",
       "[163 rows x 10 columns]"
      ],
      "text/html": [
       "<div>\n",
       "<style scoped>\n",
       "    .dataframe tbody tr th:only-of-type {\n",
       "        vertical-align: middle;\n",
       "    }\n",
       "\n",
       "    .dataframe tbody tr th {\n",
       "        vertical-align: top;\n",
       "    }\n",
       "\n",
       "    .dataframe thead th {\n",
       "        text-align: right;\n",
       "    }\n",
       "</style>\n",
       "<table border=\"1\" class=\"dataframe\">\n",
       "  <thead>\n",
       "    <tr style=\"text-align: right;\">\n",
       "      <th></th>\n",
       "      <th>start</th>\n",
       "      <th>end</th>\n",
       "      <th>text</th>\n",
       "      <th>label</th>\n",
       "      <th>score</th>\n",
       "      <th>filename</th>\n",
       "      <th>nodename</th>\n",
       "      <th>index</th>\n",
       "      <th>text_md5</th>\n",
       "      <th>composite_id</th>\n",
       "    </tr>\n",
       "  </thead>\n",
       "  <tbody>\n",
       "    <tr>\n",
       "      <th>0</th>\n",
       "      <td>26</td>\n",
       "      <td>54</td>\n",
       "      <td>convolutional neural network</td>\n",
       "      <td>Model</td>\n",
       "      <td>0.802835</td>\n",
       "      <td>2202.05901v2.pdf</td>\n",
       "      <td>Cardinal</td>\n",
       "      <td>0</td>\n",
       "      <td>74c081a322a1b6000c9a79efe486c029</td>\n",
       "      <td>2202.05901v2.pdf_Cardinal_0</td>\n",
       "    </tr>\n",
       "    <tr>\n",
       "      <th>1</th>\n",
       "      <td>58</td>\n",
       "      <td>61</td>\n",
       "      <td>CNN</td>\n",
       "      <td>Model</td>\n",
       "      <td>0.624678</td>\n",
       "      <td>2202.05901v2.pdf</td>\n",
       "      <td>Cardinal</td>\n",
       "      <td>0</td>\n",
       "      <td>2435a45b85628172c5a47122144a7c67</td>\n",
       "      <td>2202.05901v2.pdf_Cardinal_0</td>\n",
       "    </tr>\n",
       "    <tr>\n",
       "      <th>2</th>\n",
       "      <td>116</td>\n",
       "      <td>127</td>\n",
       "      <td>orientation</td>\n",
       "      <td>Metric</td>\n",
       "      <td>0.650835</td>\n",
       "      <td>2202.05901v2.pdf</td>\n",
       "      <td>Cardinal</td>\n",
       "      <td>0</td>\n",
       "      <td>da1639422ad8f355d2371428471379b5</td>\n",
       "      <td>2202.05901v2.pdf_Cardinal_0</td>\n",
       "    </tr>\n",
       "    <tr>\n",
       "      <th>3</th>\n",
       "      <td>129</td>\n",
       "      <td>145</td>\n",
       "      <td>impact parameter</td>\n",
       "      <td>Metric</td>\n",
       "      <td>0.847192</td>\n",
       "      <td>2202.05901v2.pdf</td>\n",
       "      <td>Cardinal</td>\n",
       "      <td>0</td>\n",
       "      <td>8abe3c2e3dce9d23c0dcb3a60be1d595</td>\n",
       "      <td>2202.05901v2.pdf_Cardinal_0</td>\n",
       "    </tr>\n",
       "    <tr>\n",
       "      <th>4</th>\n",
       "      <td>151</td>\n",
       "      <td>160</td>\n",
       "      <td>chirality</td>\n",
       "      <td>Metric</td>\n",
       "      <td>0.788682</td>\n",
       "      <td>2202.05901v2.pdf</td>\n",
       "      <td>Cardinal</td>\n",
       "      <td>0</td>\n",
       "      <td>a0cbfd960a9ddd3fa2ad063f48d1d4dd</td>\n",
       "      <td>2202.05901v2.pdf_Cardinal_0</td>\n",
       "    </tr>\n",
       "    <tr>\n",
       "      <th>...</th>\n",
       "      <td>...</td>\n",
       "      <td>...</td>\n",
       "      <td>...</td>\n",
       "      <td>...</td>\n",
       "      <td>...</td>\n",
       "      <td>...</td>\n",
       "      <td>...</td>\n",
       "      <td>...</td>\n",
       "      <td>...</td>\n",
       "      <td>...</td>\n",
       "    </tr>\n",
       "    <tr>\n",
       "      <th>158</th>\n",
       "      <td>183</td>\n",
       "      <td>203</td>\n",
       "      <td>connected components</td>\n",
       "      <td>System</td>\n",
       "      <td>0.633513</td>\n",
       "      <td>source3</td>\n",
       "      <td>Supporting</td>\n",
       "      <td>1</td>\n",
       "      <td>4f075a5c6b893a805fb941a4db775c4a</td>\n",
       "      <td>source3_Supporting_1</td>\n",
       "    </tr>\n",
       "    <tr>\n",
       "      <th>159</th>\n",
       "      <td>0</td>\n",
       "      <td>7</td>\n",
       "      <td>Keyword</td>\n",
       "      <td>Keyword</td>\n",
       "      <td>0.769558</td>\n",
       "      <td>source3</td>\n",
       "      <td>Supporting</td>\n",
       "      <td>2</td>\n",
       "      <td>220f3d3750583b9db48568a0b5b9a5f1</td>\n",
       "      <td>source3_Supporting_2</td>\n",
       "    </tr>\n",
       "    <tr>\n",
       "      <th>160</th>\n",
       "      <td>37</td>\n",
       "      <td>40</td>\n",
       "      <td>AGU</td>\n",
       "      <td>Journal</td>\n",
       "      <td>0.525274</td>\n",
       "      <td>source3</td>\n",
       "      <td>Supporting</td>\n",
       "      <td>2</td>\n",
       "      <td>75dc08b63d6e7e50cf5fa69ea6b03193</td>\n",
       "      <td>source3_Supporting_2</td>\n",
       "    </tr>\n",
       "    <tr>\n",
       "      <th>161</th>\n",
       "      <td>4</td>\n",
       "      <td>21</td>\n",
       "      <td>analysis software</td>\n",
       "      <td>Software</td>\n",
       "      <td>0.767122</td>\n",
       "      <td>source3</td>\n",
       "      <td>Supporting</td>\n",
       "      <td>3</td>\n",
       "      <td>fb3cda0a5978a3d4822436ebd6ccfd12</td>\n",
       "      <td>source3_Supporting_3</td>\n",
       "    </tr>\n",
       "    <tr>\n",
       "      <th>162</th>\n",
       "      <td>26</td>\n",
       "      <td>33</td>\n",
       "      <td>dataset</td>\n",
       "      <td>Dataset</td>\n",
       "      <td>0.868541</td>\n",
       "      <td>source3</td>\n",
       "      <td>Supporting</td>\n",
       "      <td>3</td>\n",
       "      <td>3c4d09e4ef50b370ae0efacdb43ec2dd</td>\n",
       "      <td>source3_Supporting_3</td>\n",
       "    </tr>\n",
       "  </tbody>\n",
       "</table>\n",
       "<p>163 rows × 10 columns</p>\n",
       "</div>"
      ]
     },
     "execution_count": 9,
     "metadata": {},
     "output_type": "execute_result"
    }
   ],
   "execution_count": 9
  },
  {
   "metadata": {},
   "cell_type": "markdown",
   "source": [
    "## Build the nodes and relations from Sources, Claims and Entities\n",
    "\n",
    "Note the fact I have both an entities table and a nanopubs table"
   ],
   "id": "9007683ad1546af9"
  },
  {
   "metadata": {
    "ExecuteTime": {
     "end_time": "2025-05-29T17:42:43.237093Z",
     "start_time": "2025-05-29T17:42:43.234322Z"
    }
   },
   "cell_type": "code",
   "source": [
    "# Create the relations dataframe from claims_df\n",
    "relations_df = pd.concat([\n",
    "    pd.DataFrame({\n",
    "        'from': claims_df['filename'],\n",
    "        'to': claims_df['composite_id']\n",
    "    }),\n",
    "    pd.DataFrame({\n",
    "        'from': entities_df['composite_id'],\n",
    "        'to': entities_df['text']\n",
    "    })\n",
    "])\n"
   ],
   "id": "18bbbfa60f2ea75d",
   "outputs": [],
   "execution_count": 10
  },
  {
   "metadata": {
    "ExecuteTime": {
     "end_time": "2025-05-29T17:42:43.328549Z",
     "start_time": "2025-05-29T17:42:43.322745Z"
    }
   },
   "cell_type": "code",
   "source": [
    "# TODO  bring in the \"text\" from claims and .. add columns \"description\" and desc_embedding\n",
    "nodes = pd.DataFrame(pd.concat([\n",
    "    pd.concat([sources_df['filename'].rename('id'), pd.Series(['source'] * len(sources_df), name='type')], axis=1),\n",
    "    pd.concat([claims_df['composite_id'].rename('id'), pd.Series(['claim'] * len(claims_df), name='type')], axis=1),\n",
    "    pd.concat([entities_df['text'].rename('id'), pd.Series(['entities'] * len(entities_df), name='type')], axis=1)\n",
    "])).drop_duplicates('id')\n"
   ],
   "id": "b8c43d30cb455b47",
   "outputs": [],
   "execution_count": 11
  },
  {
   "metadata": {
    "ExecuteTime": {
     "end_time": "2025-05-29T17:42:44.440728Z",
     "start_time": "2025-05-29T17:42:43.398320Z"
    }
   },
   "cell_type": "code",
   "source": [
    "# load the model, this can take a while the first time\n",
    "model = SentenceTransformer(\"all-MiniLM-L6-v2\")"
   ],
   "id": "e3c6b7a52687b0e8",
   "outputs": [
    {
     "name": "stderr",
     "output_type": "stream",
     "text": [
      "/home/fils/scratch/biohack/.venv/lib/python3.13/site-packages/torch/cuda/__init__.py:174: UserWarning: CUDA initialization: CUDA unknown error - this may be due to an incorrectly set up environment, e.g. changing env variable CUDA_VISIBLE_DEVICES after program start. Setting the available devices to be zero. (Triggered internally at /pytorch/c10/cuda/CUDAFunctions.cpp:109.)\n",
      "  return torch._C._cuda_getDeviceCount() > 0\n"
     ]
    }
   ],
   "execution_count": 12
  },
  {
   "metadata": {
    "ExecuteTime": {
     "end_time": "2025-05-29T17:42:44.495086Z",
     "start_time": "2025-05-29T17:42:44.463694Z"
    }
   },
   "cell_type": "code",
   "source": [
    "# Open a new in-memory database\n",
    "db = kuzu.Database()\n",
    "conn = kuzu.Connection(db)\n",
    "# conn.execute(\"INSTALL vector; LOAD vector;\")\n"
   ],
   "id": "9c2d310e0647613f",
   "outputs": [],
   "execution_count": 13
  },
  {
   "metadata": {
    "ExecuteTime": {
     "end_time": "2025-05-29T17:42:44.517898Z",
     "start_time": "2025-05-29T17:42:44.516044Z"
    }
   },
   "cell_type": "code",
   "source": [
    "# # MEW APPROACH\n",
    "# # alternate node table(s) approach\n",
    "# conn.execute(\"CREATE NODE TABLE SOURCES(id STRING PRIMARY KEY, filename string)\")\n",
    "# kuzu_sources_df = pd.DataFrame({\n",
    "#     'id': sources_df['id'],\n",
    "#     'filename': sources_df['filename']\n",
    "# })\n",
    "# conn.execute(\"COPY SOURCES FROM kuzu_sources_df (ignore_errors=true)\")\n",
    "#\n",
    "# conn.execute(\"CREATE NODE TABLE CLAIMS(id STRING PRIMARY KEY, text string, nodename string, filename string)\")\n",
    "# kuzu_sources_df = pd.DataFrame({\n",
    "#     'id': claims_df['composite_id'],\n",
    "#     'text': claims_df['text'],\n",
    "#     'nodename': claims_df['node_name'],\n",
    "#     'filename': claims_df['filename']\n",
    "# })\n",
    "# conn.execute(\"COPY CLAIMS FROM kuzu_sources_df (ignore_errors=true)\")\n",
    "#\n",
    "# conn.execute(\"CREATE NODE TABLE ENTITIES(id STRING PRIMARY KEY, text string, label string, nodename string, filename string)\")\n",
    "# kuzu_sources_df = pd.DataFrame({\n",
    "#     'id': entities_df['composite_id'],\n",
    "#     'text': entities_df['text'],\n",
    "#     'label': entities_df['label'],\n",
    "#     'nodename': entities_df['nodename'],\n",
    "#     'filename': claims_df['filename']\n",
    "# })\n",
    "# conn.execute(\"COPY ENTITIES FROM kuzu_sources_df (ignore_errors=true)\")\n"
   ],
   "id": "3ad443e84b0c84b2",
   "outputs": [],
   "execution_count": 14
  },
  {
   "metadata": {
    "ExecuteTime": {
     "end_time": "2025-05-29T17:42:44.603458Z",
     "start_time": "2025-05-29T17:42:44.567163Z"
    }
   },
   "cell_type": "code",
   "source": [
    "# OLD APPROACH\n",
    "# Creates a Person node table with name as the primary key\n",
    "\n",
    "conn.execute(\"CREATE NODE TABLE Claim(id STRING PRIMARY KEY, type string)\") # add in description and desc_embedding\n",
    "\n",
    "# Enable the `ignore_errors` parameter below to ignore the erroneous rows\n",
    "conn.execute(\"COPY Claim FROM nodes (ignore_errors=true)\")"
   ],
   "id": "f100c8a70e61d4fb",
   "outputs": [
    {
     "data": {
      "text/plain": [
       "<kuzu.query_result.QueryResult at 0x726a6027d090>"
      ]
     },
     "execution_count": 15,
     "metadata": {},
     "output_type": "execute_result"
    }
   ],
   "execution_count": 15
  },
  {
   "metadata": {
    "ExecuteTime": {
     "end_time": "2025-05-29T17:42:44.623564Z",
     "start_time": "2025-05-29T17:42:44.621227Z"
    }
   },
   "cell_type": "code",
   "source": "conn.execute(\"CREATE REL TABLE IF NOT EXISTS rels( FROM Claim TO Claim)\")",
   "id": "28f7e2910a0e0320",
   "outputs": [
    {
     "data": {
      "text/plain": [
       "<kuzu.query_result.QueryResult at 0x726c01cc6990>"
      ]
     },
     "execution_count": 16,
     "metadata": {},
     "output_type": "execute_result"
    }
   ],
   "execution_count": 16
  },
  {
   "metadata": {
    "ExecuteTime": {
     "end_time": "2025-05-29T17:42:44.685427Z",
     "start_time": "2025-05-29T17:42:44.680087Z"
    }
   },
   "cell_type": "code",
   "source": "res = conn.execute(\"COPY rels FROM relations_df\")",
   "id": "a829f4b09b347fbf",
   "outputs": [],
   "execution_count": 17
  },
  {
   "metadata": {
    "ExecuteTime": {
     "end_time": "2025-05-29T17:42:44.735196Z",
     "start_time": "2025-05-29T17:42:44.732596Z"
    }
   },
   "cell_type": "code",
   "source": [
    "# Create a widget instance using the existing connection\n",
    "g = KuzuGraphWidget(conn)\n",
    "\n",
    "def get_node_color(node):\n",
    "    node_type = node[\"properties\"][\"type\"]\n",
    "    if node_type == \"source\":\n",
    "        return \"blue\"  # Or any color you prefer for source\n",
    "    elif node_type == \"claim\":\n",
    "        return \"green\" # Or any color you prefer for claim\n",
    "    elif node_type == \"entities\":\n",
    "        return \"purple\" # Or any color you prefer for entity\n",
    "    else:\n",
    "        return \"gray\"  # Default color for other types\n",
    "\n",
    "g.add_node_configuration(\n",
    "    \"Claim\",  # You might want to change this if the configuration is not just for \"Person\" nodes\n",
    "    color=lambda node: get_node_color(node),  # type: ignore\n",
    "    text=lambda node: {  # type: ignore\n",
    "        \"text\": node[\"properties\"][\"type\"],\n",
    "        \"position\": \"south\",\n",
    "    }\n",
    ")\n",
    "# set up configuration for the graph\n",
    "# Custom configuration for nodes\n",
    "# g.add_node_configuration(\n",
    "#     \"Claim\",\n",
    "#     color=\"red\",   # type: ignore\n",
    "#      text= lambda node : {   # type: ignore\n",
    "#          \"text\": node[\"properties\"][\"type\"],\n",
    "#          \"position\": \"south\",\n",
    "#     }\n",
    "# )\n",
    "\n",
    "# Display the entire graph"
   ],
   "id": "af9aaad5a9bc8c8",
   "outputs": [],
   "execution_count": 18
  },
  {
   "metadata": {
    "ExecuteTime": {
     "end_time": "2025-05-29T17:42:44.945617Z",
     "start_time": "2025-05-29T17:42:44.784249Z"
    }
   },
   "cell_type": "code",
   "source": "g.show_cypher(\"MATCH (a)-[b]->(c) RETURN *\")\n",
   "id": "ebb5455be41bbc10",
   "outputs": [
    {
     "data": {
      "text/plain": [
       "GraphWidget(layout=Layout(height='800px', width='100%'))"
      ],
      "application/vnd.jupyter.widget-view+json": {
       "version_major": 2,
       "version_minor": 0,
       "model_id": "f2e043ea50554045ab797dbe130b5882"
      }
     },
     "metadata": {},
     "output_type": "display_data"
    }
   ],
   "execution_count": 19
  },
  {
   "metadata": {
    "ExecuteTime": {
     "end_time": "2025-05-29T17:42:44.968179Z",
     "start_time": "2025-05-29T17:42:44.965984Z"
    }
   },
   "cell_type": "code",
   "source": [
    "# g.show_cypher(\"MATCH (a)-[]->(intermediate_node {type: 'claim'})-[]->(c) RETURN *\")\n",
    "# g.show_cypher(\"MATCH conn_path = (a)-[]->(intermediate_node {type: 'claim'})-[]->(c) RETURN a, c, conn_path\")\n",
    "# g.show_cypher(\"MATCH conn_path = (a)-[]->(intermediate_node {type: 'claim'})-[]->(c) RETURN a, c, conn_path\")\n",
    "# MATCH p = (s {type: 'source'})-[*]-(e {type: 'entities'})\n",
    "# RETURN p"
   ],
   "id": "c3867d4d287bf093",
   "outputs": [],
   "execution_count": 20
  },
  {
   "metadata": {
    "ExecuteTime": {
     "end_time": "2025-05-29T17:42:45.208670Z",
     "start_time": "2025-05-29T17:42:45.017785Z"
    }
   },
   "cell_type": "code",
   "source": [
    "# g.show_cypher(\"MATCH p = (start_node {type: 'source'})-[]->(intermediate_node)-[]->(end_node {type: 'entities'}) RETURN p\")\n",
    "g.show_cypher(\"MATCH p = (start_node {type: 'source'})-[]->(intermediate_node)-[]->(end_node {type: 'entities'}) RETURN start_node, end_node, p\")"
   ],
   "id": "2c89b2939c6d54dc",
   "outputs": [
    {
     "data": {
      "text/plain": [
       "GraphWidget(layout=Layout(height='800px', width='100%'))"
      ],
      "application/vnd.jupyter.widget-view+json": {
       "version_major": 2,
       "version_minor": 0,
       "model_id": "e8f6de98d91347ccb5a7315488dc318e"
      }
     },
     "metadata": {},
     "output_type": "display_data"
    }
   ],
   "execution_count": 21
  }
 ],
 "metadata": {
  "kernelspec": {
   "display_name": "Python 3",
   "language": "python",
   "name": "python3"
  },
  "language_info": {
   "codemirror_mode": {
    "name": "ipython",
    "version": 2
   },
   "file_extension": ".py",
   "mimetype": "text/x-python",
   "name": "python",
   "nbconvert_exporter": "python",
   "pygments_lexer": "ipython2",
   "version": "2.7.6"
  }
 },
 "nbformat": 4,
 "nbformat_minor": 5
}
