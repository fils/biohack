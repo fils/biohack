{
 "cells": [
  {
   "metadata": {
    "ExecuteTime": {
     "end_time": "2025-05-23T02:31:59.621053Z",
     "start_time": "2025-05-23T02:31:59.617655Z"
    }
   },
   "cell_type": "code",
   "source": [
    "import kuzu\n",
    "from yfiles_jupyter_graphs_for_kuzu import KuzuGraphWidget\n",
    "import lancedb\n",
    "import pandas as pd\n",
    "import hashlib\n"
   ],
   "id": "ba1b9f70812bcb8d",
   "outputs": [],
   "execution_count": 44
  },
  {
   "metadata": {
    "ExecuteTime": {
     "end_time": "2025-05-23T02:32:10.322769Z",
     "start_time": "2025-05-23T02:32:10.309738Z"
    }
   },
   "cell_type": "code",
   "source": [
    "db = lancedb.connect(\"../lancedb\")\n",
    "\n",
    "claims_df = pd.DataFrame(db.open_table(\"claims\").to_pandas())\n",
    "entities_df = pd.DataFrame(db.open_table(\"entities\").to_pandas())\n",
    "sources_df = pd.DataFrame(db.open_table(\"sources\").to_pandas())"
   ],
   "id": "ce0439fcb86b4fbf",
   "outputs": [],
   "execution_count": 45
  },
  {
   "metadata": {
    "ExecuteTime": {
     "end_time": "2025-05-23T02:37:41.635194Z",
     "start_time": "2025-05-23T02:37:41.632642Z"
    }
   },
   "cell_type": "code",
   "source": [
    "print(sources_df.columns.values)\n",
    "print(\"---------------------------------\")\n",
    "print(claims_df.columns.values)\n",
    "print(\"---------------------------------\")\n",
    "print(entities_df.columns.values)"
   ],
   "id": "c463d12a5e5ae293",
   "outputs": [
    {
     "name": "stdout",
     "output_type": "stream",
     "text": [
      "['filename' 'id' 'location' 'markdown']\n",
      "---------------------------------\n",
      "['filename' 'node_name' 'index' 'text' 'composite_id']\n",
      "---------------------------------\n",
      "['start' 'end' 'text' 'label' 'score' 'filename' 'nodename' 'index'\n",
      " 'text_md5' 'composite_id']\n"
     ]
    }
   ],
   "execution_count": 65
  },
  {
   "metadata": {},
   "cell_type": "markdown",
   "source": "Based on the above, I could make \"from\" and \"to\" columns in all of these.  Then also make a node_id and name for all of them as well.",
   "id": "9ef109489dd44607"
  },
  {
   "metadata": {
    "ExecuteTime": {
     "end_time": "2025-05-23T02:32:11.882278Z",
     "start_time": "2025-05-23T02:32:11.874983Z"
    }
   },
   "cell_type": "code",
   "source": "sources_df",
   "id": "c58a8abe3c3e6714",
   "outputs": [
    {
     "data": {
      "text/plain": [
       "           filename                                id  \\\n",
       "0  2202.05901v2.pdf  2c494b74cd387935028898cf4d998e1c   \n",
       "1  2409.09230v1.pdf  824512f309bf431858125747565b05f6   \n",
       "2           source3  08260e29029420a6ba81dcc7cd7dc033   \n",
       "\n",
       "                                        location  \\\n",
       "0          file://stores/inputs/2202.05901v2.pdf   \n",
       "1          file://stores/inputs/2409.09230v1.pdf   \n",
       "2  https://gc.copernicus.org/articles/2/55/2019/   \n",
       "\n",
       "                                            markdown  \n",
       "0  ## Page 1\\n\\nIdentiﬁcation of Flux Rope Orient...  \n",
       "1  ## Page 1\\n\\nSolar Physics\\nDOI: 10.1007/ ••••...  \n",
       "2  ![](https://contentmanager.copernicus.org/8009...  "
      ],
      "text/html": [
       "<div>\n",
       "<style scoped>\n",
       "    .dataframe tbody tr th:only-of-type {\n",
       "        vertical-align: middle;\n",
       "    }\n",
       "\n",
       "    .dataframe tbody tr th {\n",
       "        vertical-align: top;\n",
       "    }\n",
       "\n",
       "    .dataframe thead th {\n",
       "        text-align: right;\n",
       "    }\n",
       "</style>\n",
       "<table border=\"1\" class=\"dataframe\">\n",
       "  <thead>\n",
       "    <tr style=\"text-align: right;\">\n",
       "      <th></th>\n",
       "      <th>filename</th>\n",
       "      <th>id</th>\n",
       "      <th>location</th>\n",
       "      <th>markdown</th>\n",
       "    </tr>\n",
       "  </thead>\n",
       "  <tbody>\n",
       "    <tr>\n",
       "      <th>0</th>\n",
       "      <td>2202.05901v2.pdf</td>\n",
       "      <td>2c494b74cd387935028898cf4d998e1c</td>\n",
       "      <td>file://stores/inputs/2202.05901v2.pdf</td>\n",
       "      <td>## Page 1\\n\\nIdentiﬁcation of Flux Rope Orient...</td>\n",
       "    </tr>\n",
       "    <tr>\n",
       "      <th>1</th>\n",
       "      <td>2409.09230v1.pdf</td>\n",
       "      <td>824512f309bf431858125747565b05f6</td>\n",
       "      <td>file://stores/inputs/2409.09230v1.pdf</td>\n",
       "      <td>## Page 1\\n\\nSolar Physics\\nDOI: 10.1007/ ••••...</td>\n",
       "    </tr>\n",
       "    <tr>\n",
       "      <th>2</th>\n",
       "      <td>source3</td>\n",
       "      <td>08260e29029420a6ba81dcc7cd7dc033</td>\n",
       "      <td>https://gc.copernicus.org/articles/2/55/2019/</td>\n",
       "      <td>![](https://contentmanager.copernicus.org/8009...</td>\n",
       "    </tr>\n",
       "  </tbody>\n",
       "</table>\n",
       "</div>"
      ]
     },
     "execution_count": 46,
     "metadata": {},
     "output_type": "execute_result"
    }
   ],
   "execution_count": 46
  },
  {
   "metadata": {
    "ExecuteTime": {
     "end_time": "2025-05-23T02:32:12.937187Z",
     "start_time": "2025-05-23T02:32:12.934528Z"
    }
   },
   "cell_type": "code",
   "source": "claims_df['composite_id'] = claims_df['filename'] + '_' + claims_df['node_name'] + '_' + claims_df['index'].astype(str)",
   "id": "d3b9181dadd4b32a",
   "outputs": [],
   "execution_count": 47
  },
  {
   "metadata": {
    "ExecuteTime": {
     "end_time": "2025-05-23T02:32:13.418763Z",
     "start_time": "2025-05-23T02:32:13.413590Z"
    }
   },
   "cell_type": "code",
   "source": "claims_df",
   "id": "56e58e7cfee1c734",
   "outputs": [
    {
     "data": {
      "text/plain": [
       "             filename         node_name  index  \\\n",
       "0    2202.05901v2.pdf          Cardinal      0   \n",
       "1    2202.05901v2.pdf          Cardinal      1   \n",
       "2    2202.05901v2.pdf          Cardinal      2   \n",
       "3    2202.05901v2.pdf        Supporting      0   \n",
       "4    2202.05901v2.pdf        Supporting      1   \n",
       "..                ...               ...    ...   \n",
       "96            source3       limitations      0   \n",
       "97            source3  futureDirections      0   \n",
       "98            source3       keyFindings      0   \n",
       "99            source3        references      0   \n",
       "100           source3        references      1   \n",
       "\n",
       "                                                  text  \\\n",
       "0    This study demonstrates that convolutional neu...   \n",
       "1    The neural network trained on full duration sy...   \n",
       "2    Our work shows that neural networks struggle t...   \n",
       "3    This research uses CNNs trained with magnetic ...   \n",
       "4    The study uses a physics-based flux rope model...   \n",
       "..                                                 ...   \n",
       "96   The inherent uncertainty due to the challenge ...   \n",
       "97   Development of open tools that leverage progra...   \n",
       "98   The rate at which new people are attending AGU...   \n",
       "99   Narock, T., Hasnain, S., and Stephan, R.: Iden...   \n",
       "100  Ford, H. L., Brick, C., Blaufuss, K., and Deke...   \n",
       "\n",
       "                      composite_id  \n",
       "0      2202.05901v2.pdf_Cardinal_0  \n",
       "1      2202.05901v2.pdf_Cardinal_1  \n",
       "2      2202.05901v2.pdf_Cardinal_2  \n",
       "3    2202.05901v2.pdf_Supporting_0  \n",
       "4    2202.05901v2.pdf_Supporting_1  \n",
       "..                             ...  \n",
       "96           source3_limitations_0  \n",
       "97      source3_futureDirections_0  \n",
       "98           source3_keyFindings_0  \n",
       "99            source3_references_0  \n",
       "100           source3_references_1  \n",
       "\n",
       "[101 rows x 5 columns]"
      ],
      "text/html": [
       "<div>\n",
       "<style scoped>\n",
       "    .dataframe tbody tr th:only-of-type {\n",
       "        vertical-align: middle;\n",
       "    }\n",
       "\n",
       "    .dataframe tbody tr th {\n",
       "        vertical-align: top;\n",
       "    }\n",
       "\n",
       "    .dataframe thead th {\n",
       "        text-align: right;\n",
       "    }\n",
       "</style>\n",
       "<table border=\"1\" class=\"dataframe\">\n",
       "  <thead>\n",
       "    <tr style=\"text-align: right;\">\n",
       "      <th></th>\n",
       "      <th>filename</th>\n",
       "      <th>node_name</th>\n",
       "      <th>index</th>\n",
       "      <th>text</th>\n",
       "      <th>composite_id</th>\n",
       "    </tr>\n",
       "  </thead>\n",
       "  <tbody>\n",
       "    <tr>\n",
       "      <th>0</th>\n",
       "      <td>2202.05901v2.pdf</td>\n",
       "      <td>Cardinal</td>\n",
       "      <td>0</td>\n",
       "      <td>This study demonstrates that convolutional neu...</td>\n",
       "      <td>2202.05901v2.pdf_Cardinal_0</td>\n",
       "    </tr>\n",
       "    <tr>\n",
       "      <th>1</th>\n",
       "      <td>2202.05901v2.pdf</td>\n",
       "      <td>Cardinal</td>\n",
       "      <td>1</td>\n",
       "      <td>The neural network trained on full duration sy...</td>\n",
       "      <td>2202.05901v2.pdf_Cardinal_1</td>\n",
       "    </tr>\n",
       "    <tr>\n",
       "      <th>2</th>\n",
       "      <td>2202.05901v2.pdf</td>\n",
       "      <td>Cardinal</td>\n",
       "      <td>2</td>\n",
       "      <td>Our work shows that neural networks struggle t...</td>\n",
       "      <td>2202.05901v2.pdf_Cardinal_2</td>\n",
       "    </tr>\n",
       "    <tr>\n",
       "      <th>3</th>\n",
       "      <td>2202.05901v2.pdf</td>\n",
       "      <td>Supporting</td>\n",
       "      <td>0</td>\n",
       "      <td>This research uses CNNs trained with magnetic ...</td>\n",
       "      <td>2202.05901v2.pdf_Supporting_0</td>\n",
       "    </tr>\n",
       "    <tr>\n",
       "      <th>4</th>\n",
       "      <td>2202.05901v2.pdf</td>\n",
       "      <td>Supporting</td>\n",
       "      <td>1</td>\n",
       "      <td>The study uses a physics-based flux rope model...</td>\n",
       "      <td>2202.05901v2.pdf_Supporting_1</td>\n",
       "    </tr>\n",
       "    <tr>\n",
       "      <th>...</th>\n",
       "      <td>...</td>\n",
       "      <td>...</td>\n",
       "      <td>...</td>\n",
       "      <td>...</td>\n",
       "      <td>...</td>\n",
       "    </tr>\n",
       "    <tr>\n",
       "      <th>96</th>\n",
       "      <td>source3</td>\n",
       "      <td>limitations</td>\n",
       "      <td>0</td>\n",
       "      <td>The inherent uncertainty due to the challenge ...</td>\n",
       "      <td>source3_limitations_0</td>\n",
       "    </tr>\n",
       "    <tr>\n",
       "      <th>97</th>\n",
       "      <td>source3</td>\n",
       "      <td>futureDirections</td>\n",
       "      <td>0</td>\n",
       "      <td>Development of open tools that leverage progra...</td>\n",
       "      <td>source3_futureDirections_0</td>\n",
       "    </tr>\n",
       "    <tr>\n",
       "      <th>98</th>\n",
       "      <td>source3</td>\n",
       "      <td>keyFindings</td>\n",
       "      <td>0</td>\n",
       "      <td>The rate at which new people are attending AGU...</td>\n",
       "      <td>source3_keyFindings_0</td>\n",
       "    </tr>\n",
       "    <tr>\n",
       "      <th>99</th>\n",
       "      <td>source3</td>\n",
       "      <td>references</td>\n",
       "      <td>0</td>\n",
       "      <td>Narock, T., Hasnain, S., and Stephan, R.: Iden...</td>\n",
       "      <td>source3_references_0</td>\n",
       "    </tr>\n",
       "    <tr>\n",
       "      <th>100</th>\n",
       "      <td>source3</td>\n",
       "      <td>references</td>\n",
       "      <td>1</td>\n",
       "      <td>Ford, H. L., Brick, C., Blaufuss, K., and Deke...</td>\n",
       "      <td>source3_references_1</td>\n",
       "    </tr>\n",
       "  </tbody>\n",
       "</table>\n",
       "<p>101 rows × 5 columns</p>\n",
       "</div>"
      ]
     },
     "execution_count": 48,
     "metadata": {},
     "output_type": "execute_result"
    }
   ],
   "execution_count": 48
  },
  {
   "metadata": {
    "ExecuteTime": {
     "end_time": "2025-05-23T02:32:14.522136Z",
     "start_time": "2025-05-23T02:32:14.519117Z"
    }
   },
   "cell_type": "code",
   "source": "entities_df['text_md5'] = entities_df['text'].apply(lambda x: hashlib.md5(str(x).encode()).hexdigest())",
   "id": "3c5eadfb5920a92d",
   "outputs": [],
   "execution_count": 49
  },
  {
   "metadata": {
    "ExecuteTime": {
     "end_time": "2025-05-23T02:32:14.968668Z",
     "start_time": "2025-05-23T02:32:14.964977Z"
    }
   },
   "cell_type": "code",
   "source": "entities_df['composite_id'] = entities_df['filename'] + '_' + entities_df['nodename'] + '_' + entities_df['index'].astype(str)",
   "id": "895b01e39834953d",
   "outputs": [],
   "execution_count": 50
  },
  {
   "metadata": {
    "ExecuteTime": {
     "end_time": "2025-05-23T02:32:15.586734Z",
     "start_time": "2025-05-23T02:32:15.580642Z"
    }
   },
   "cell_type": "code",
   "source": "entities_df",
   "id": "1a82fefb5c02eace",
   "outputs": [
    {
     "data": {
      "text/plain": [
       "     start  end                                  text       label     score  \\\n",
       "0       29   58         convolutional neural networks  Technology  0.803726   \n",
       "1       60   64                                  CNNs  Technology  0.593342   \n",
       "2      118  154  interplanetary coronal mass ejection       Event  0.875200   \n",
       "3      156  160                                  ICME       Event  0.855814   \n",
       "4        4   18                        neural network       Model  0.773247   \n",
       "..     ...  ...                                   ...         ...       ...   \n",
       "252    139  151                          Fall Meeting       Event  0.524235   \n",
       "253    153  163                            EarthArXiv     Journal  0.894782   \n",
       "254    182  189                               doi.org   Publisher  0.736378   \n",
       "255    190  198                              10.17605         DOI  0.772052   \n",
       "256    213  217                                  2018        Date  0.898759   \n",
       "\n",
       "             filename    nodename  index                          text_md5  \\\n",
       "0    2202.05901v2.pdf    Cardinal      0  d19a182265bb19e67de7745fa0777821   \n",
       "1    2202.05901v2.pdf    Cardinal      0  b2ee264f68cd2a4f9487fd2b0b985aac   \n",
       "2    2202.05901v2.pdf    Cardinal      0  2fd510e00fe9f53428cb353738a472e9   \n",
       "3    2202.05901v2.pdf    Cardinal      0  ef547ab69a1e98b2b518ff05ae1420ee   \n",
       "4    2202.05901v2.pdf    Cardinal      1  510bf9286c4642c7ac7fa6dc0e15f94f   \n",
       "..                ...         ...    ...                               ...   \n",
       "252           source3  references      1  c2871c7df3434a05af55d285999fd189   \n",
       "253           source3  references      1  96882fe399475578c855366a5b5ebac0   \n",
       "254           source3  references      1  0a75e822c6f3334851117f8769a30e1c   \n",
       "255           source3  references      1  83891a209f4432bbcf0e49ec8414d04b   \n",
       "256           source3  references      1  84ddfb34126fc3a48ee38d7044e87276   \n",
       "\n",
       "                    composite_id  \n",
       "0    2202.05901v2.pdf_Cardinal_0  \n",
       "1    2202.05901v2.pdf_Cardinal_0  \n",
       "2    2202.05901v2.pdf_Cardinal_0  \n",
       "3    2202.05901v2.pdf_Cardinal_0  \n",
       "4    2202.05901v2.pdf_Cardinal_1  \n",
       "..                           ...  \n",
       "252         source3_references_1  \n",
       "253         source3_references_1  \n",
       "254         source3_references_1  \n",
       "255         source3_references_1  \n",
       "256         source3_references_1  \n",
       "\n",
       "[257 rows x 10 columns]"
      ],
      "text/html": [
       "<div>\n",
       "<style scoped>\n",
       "    .dataframe tbody tr th:only-of-type {\n",
       "        vertical-align: middle;\n",
       "    }\n",
       "\n",
       "    .dataframe tbody tr th {\n",
       "        vertical-align: top;\n",
       "    }\n",
       "\n",
       "    .dataframe thead th {\n",
       "        text-align: right;\n",
       "    }\n",
       "</style>\n",
       "<table border=\"1\" class=\"dataframe\">\n",
       "  <thead>\n",
       "    <tr style=\"text-align: right;\">\n",
       "      <th></th>\n",
       "      <th>start</th>\n",
       "      <th>end</th>\n",
       "      <th>text</th>\n",
       "      <th>label</th>\n",
       "      <th>score</th>\n",
       "      <th>filename</th>\n",
       "      <th>nodename</th>\n",
       "      <th>index</th>\n",
       "      <th>text_md5</th>\n",
       "      <th>composite_id</th>\n",
       "    </tr>\n",
       "  </thead>\n",
       "  <tbody>\n",
       "    <tr>\n",
       "      <th>0</th>\n",
       "      <td>29</td>\n",
       "      <td>58</td>\n",
       "      <td>convolutional neural networks</td>\n",
       "      <td>Technology</td>\n",
       "      <td>0.803726</td>\n",
       "      <td>2202.05901v2.pdf</td>\n",
       "      <td>Cardinal</td>\n",
       "      <td>0</td>\n",
       "      <td>d19a182265bb19e67de7745fa0777821</td>\n",
       "      <td>2202.05901v2.pdf_Cardinal_0</td>\n",
       "    </tr>\n",
       "    <tr>\n",
       "      <th>1</th>\n",
       "      <td>60</td>\n",
       "      <td>64</td>\n",
       "      <td>CNNs</td>\n",
       "      <td>Technology</td>\n",
       "      <td>0.593342</td>\n",
       "      <td>2202.05901v2.pdf</td>\n",
       "      <td>Cardinal</td>\n",
       "      <td>0</td>\n",
       "      <td>b2ee264f68cd2a4f9487fd2b0b985aac</td>\n",
       "      <td>2202.05901v2.pdf_Cardinal_0</td>\n",
       "    </tr>\n",
       "    <tr>\n",
       "      <th>2</th>\n",
       "      <td>118</td>\n",
       "      <td>154</td>\n",
       "      <td>interplanetary coronal mass ejection</td>\n",
       "      <td>Event</td>\n",
       "      <td>0.875200</td>\n",
       "      <td>2202.05901v2.pdf</td>\n",
       "      <td>Cardinal</td>\n",
       "      <td>0</td>\n",
       "      <td>2fd510e00fe9f53428cb353738a472e9</td>\n",
       "      <td>2202.05901v2.pdf_Cardinal_0</td>\n",
       "    </tr>\n",
       "    <tr>\n",
       "      <th>3</th>\n",
       "      <td>156</td>\n",
       "      <td>160</td>\n",
       "      <td>ICME</td>\n",
       "      <td>Event</td>\n",
       "      <td>0.855814</td>\n",
       "      <td>2202.05901v2.pdf</td>\n",
       "      <td>Cardinal</td>\n",
       "      <td>0</td>\n",
       "      <td>ef547ab69a1e98b2b518ff05ae1420ee</td>\n",
       "      <td>2202.05901v2.pdf_Cardinal_0</td>\n",
       "    </tr>\n",
       "    <tr>\n",
       "      <th>4</th>\n",
       "      <td>4</td>\n",
       "      <td>18</td>\n",
       "      <td>neural network</td>\n",
       "      <td>Model</td>\n",
       "      <td>0.773247</td>\n",
       "      <td>2202.05901v2.pdf</td>\n",
       "      <td>Cardinal</td>\n",
       "      <td>1</td>\n",
       "      <td>510bf9286c4642c7ac7fa6dc0e15f94f</td>\n",
       "      <td>2202.05901v2.pdf_Cardinal_1</td>\n",
       "    </tr>\n",
       "    <tr>\n",
       "      <th>...</th>\n",
       "      <td>...</td>\n",
       "      <td>...</td>\n",
       "      <td>...</td>\n",
       "      <td>...</td>\n",
       "      <td>...</td>\n",
       "      <td>...</td>\n",
       "      <td>...</td>\n",
       "      <td>...</td>\n",
       "      <td>...</td>\n",
       "      <td>...</td>\n",
       "    </tr>\n",
       "    <tr>\n",
       "      <th>252</th>\n",
       "      <td>139</td>\n",
       "      <td>151</td>\n",
       "      <td>Fall Meeting</td>\n",
       "      <td>Event</td>\n",
       "      <td>0.524235</td>\n",
       "      <td>source3</td>\n",
       "      <td>references</td>\n",
       "      <td>1</td>\n",
       "      <td>c2871c7df3434a05af55d285999fd189</td>\n",
       "      <td>source3_references_1</td>\n",
       "    </tr>\n",
       "    <tr>\n",
       "      <th>253</th>\n",
       "      <td>153</td>\n",
       "      <td>163</td>\n",
       "      <td>EarthArXiv</td>\n",
       "      <td>Journal</td>\n",
       "      <td>0.894782</td>\n",
       "      <td>source3</td>\n",
       "      <td>references</td>\n",
       "      <td>1</td>\n",
       "      <td>96882fe399475578c855366a5b5ebac0</td>\n",
       "      <td>source3_references_1</td>\n",
       "    </tr>\n",
       "    <tr>\n",
       "      <th>254</th>\n",
       "      <td>182</td>\n",
       "      <td>189</td>\n",
       "      <td>doi.org</td>\n",
       "      <td>Publisher</td>\n",
       "      <td>0.736378</td>\n",
       "      <td>source3</td>\n",
       "      <td>references</td>\n",
       "      <td>1</td>\n",
       "      <td>0a75e822c6f3334851117f8769a30e1c</td>\n",
       "      <td>source3_references_1</td>\n",
       "    </tr>\n",
       "    <tr>\n",
       "      <th>255</th>\n",
       "      <td>190</td>\n",
       "      <td>198</td>\n",
       "      <td>10.17605</td>\n",
       "      <td>DOI</td>\n",
       "      <td>0.772052</td>\n",
       "      <td>source3</td>\n",
       "      <td>references</td>\n",
       "      <td>1</td>\n",
       "      <td>83891a209f4432bbcf0e49ec8414d04b</td>\n",
       "      <td>source3_references_1</td>\n",
       "    </tr>\n",
       "    <tr>\n",
       "      <th>256</th>\n",
       "      <td>213</td>\n",
       "      <td>217</td>\n",
       "      <td>2018</td>\n",
       "      <td>Date</td>\n",
       "      <td>0.898759</td>\n",
       "      <td>source3</td>\n",
       "      <td>references</td>\n",
       "      <td>1</td>\n",
       "      <td>84ddfb34126fc3a48ee38d7044e87276</td>\n",
       "      <td>source3_references_1</td>\n",
       "    </tr>\n",
       "  </tbody>\n",
       "</table>\n",
       "<p>257 rows × 10 columns</p>\n",
       "</div>"
      ]
     },
     "execution_count": 51,
     "metadata": {},
     "output_type": "execute_result"
    }
   ],
   "execution_count": 51
  },
  {
   "metadata": {
    "ExecuteTime": {
     "end_time": "2025-05-23T02:32:16.558838Z",
     "start_time": "2025-05-23T02:32:16.555631Z"
    }
   },
   "cell_type": "code",
   "source": [
    "# Create the relations dataframe from claims_df\n",
    "relations_df = pd.concat([\n",
    "    pd.DataFrame({\n",
    "        'from': claims_df['filename'],\n",
    "        'to': claims_df['composite_id']\n",
    "    }),\n",
    "    pd.DataFrame({\n",
    "        'from': entities_df['composite_id'],\n",
    "        'to': entities_df['text']\n",
    "    })\n",
    "])\n"
   ],
   "id": "18bbbfa60f2ea75d",
   "outputs": [],
   "execution_count": 52
  },
  {
   "metadata": {
    "ExecuteTime": {
     "end_time": "2025-05-23T02:32:17.838152Z",
     "start_time": "2025-05-23T02:32:17.835305Z"
    }
   },
   "cell_type": "code",
   "source": [
    "nodes = pd.DataFrame(pd.concat([\n",
    "    sources_df['filename'].rename('id'),\n",
    "    claims_df['composite_id'].rename('id'),\n",
    "    entities_df['text'].rename('id')\n",
    "]).unique(), columns=['id'])\n"
   ],
   "id": "b8c43d30cb455b47",
   "outputs": [],
   "execution_count": 53
  },
  {
   "metadata": {
    "ExecuteTime": {
     "end_time": "2025-05-23T02:32:18.448511Z",
     "start_time": "2025-05-23T02:32:18.414155Z"
    }
   },
   "cell_type": "code",
   "source": [
    "# Open a new in-memory database\n",
    "db = kuzu.Database()\n",
    "conn = kuzu.Connection(db)"
   ],
   "id": "9c2d310e0647613f",
   "outputs": [],
   "execution_count": 54
  },
  {
   "metadata": {
    "ExecuteTime": {
     "end_time": "2025-05-23T02:32:19.036170Z",
     "start_time": "2025-05-23T02:32:19.012220Z"
    }
   },
   "cell_type": "code",
   "source": [
    "# Create a Person node table with name as the primary key\n",
    "conn.execute(\"CREATE NODE TABLE Claim(id STRING PRIMARY KEY)\")\n",
    "# Enable the `ignore_errors` parameter below to ignore the erroneous rows\n",
    "conn.execute(\"COPY Claim FROM nodes (ignore_errors=true)\")"
   ],
   "id": "f100c8a70e61d4fb",
   "outputs": [
    {
     "data": {
      "text/plain": [
       "<kuzu.query_result.QueryResult at 0x662166b14110>"
      ]
     },
     "execution_count": 55,
     "metadata": {},
     "output_type": "execute_result"
    }
   ],
   "execution_count": 55
  },
  {
   "metadata": {
    "ExecuteTime": {
     "end_time": "2025-05-23T02:32:19.562514Z",
     "start_time": "2025-05-23T02:32:19.559753Z"
    }
   },
   "cell_type": "code",
   "source": "conn.execute(\"CREATE REL TABLE IF NOT EXISTS rels( FROM Claim TO Claim)\")",
   "id": "28f7e2910a0e0320",
   "outputs": [
    {
     "data": {
      "text/plain": [
       "<kuzu.query_result.QueryResult at 0x662166b141d0>"
      ]
     },
     "execution_count": 56,
     "metadata": {},
     "output_type": "execute_result"
    }
   ],
   "execution_count": 56
  },
  {
   "metadata": {
    "ExecuteTime": {
     "end_time": "2025-05-23T02:32:20.169197Z",
     "start_time": "2025-05-23T02:32:20.162969Z"
    }
   },
   "cell_type": "code",
   "source": "res = conn.execute(\" COPY rels FROM relations_df\")",
   "id": "a829f4b09b347fbf",
   "outputs": [],
   "execution_count": 57
  },
  {
   "metadata": {
    "ExecuteTime": {
     "end_time": "2025-05-23T02:32:21.422940Z",
     "start_time": "2025-05-23T02:32:21.214354Z"
    }
   },
   "cell_type": "code",
   "source": [
    "# Create a widget instance using the existing connection\n",
    "g = KuzuGraphWidget(conn)\n",
    "# Display the entire graph\n",
    "g.show_cypher(\"MATCH (a)-[b]->(c) RETURN *\")"
   ],
   "id": "af9aaad5a9bc8c8",
   "outputs": [
    {
     "data": {
      "text/plain": [
       "GraphWidget(layout=Layout(height='800px', width='100%'))"
      ],
      "application/vnd.jupyter.widget-view+json": {
       "version_major": 2,
       "version_minor": 0,
       "model_id": "3502a24abeca472fae69b76b7d703234"
      }
     },
     "metadata": {},
     "output_type": "display_data"
    }
   ],
   "execution_count": 58
  },
  {
   "metadata": {},
   "cell_type": "code",
   "outputs": [],
   "execution_count": null,
   "source": "",
   "id": "ebb5455be41bbc10"
  }
 ],
 "metadata": {
  "kernelspec": {
   "display_name": "Python 3",
   "language": "python",
   "name": "python3"
  },
  "language_info": {
   "codemirror_mode": {
    "name": "ipython",
    "version": 2
   },
   "file_extension": ".py",
   "mimetype": "text/x-python",
   "name": "python",
   "nbconvert_exporter": "python",
   "pygments_lexer": "ipython2",
   "version": "2.7.6"
  }
 },
 "nbformat": 4,
 "nbformat_minor": 5
}
