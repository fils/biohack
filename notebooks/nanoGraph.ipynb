{
 "cells": [
  {
   "metadata": {},
   "cell_type": "markdown",
   "source": [
    "# Nanopub playground\n",
    "\n",
    "Take the data from LanceDB and form up some dataframes to load up KuzuDB with.  Then do a few simple visualizations to see relations.\n",
    "\n",
    "Next steps:\n",
    "- https://docs.kuzudb.com/extensions/vector/\n",
    "- https://docs.kuzudb.com/extensions/full-text-search/\n"
   ],
   "id": "397b0c608ae268b5"
  },
  {
   "metadata": {
    "ExecuteTime": {
     "end_time": "2025-05-29T17:29:04.351627Z",
     "start_time": "2025-05-29T17:29:01.673340Z"
    }
   },
   "cell_type": "code",
   "source": [
    "import kuzu\n",
    "from yfiles_jupyter_graphs_for_kuzu import KuzuGraphWidget\n",
    "import lancedb\n",
    "import pandas as pd\n",
    "import hashlib\n",
    "from sentence_transformers import SentenceTransformer\n"
   ],
   "id": "ba1b9f70812bcb8d",
   "outputs": [],
   "execution_count": 1
  },
  {
   "metadata": {
    "ExecuteTime": {
     "end_time": "2025-05-29T17:29:04.470781Z",
     "start_time": "2025-05-29T17:29:04.453087Z"
    }
   },
   "cell_type": "code",
   "source": [
    "db = lancedb.connect(\"../lancedb\")\n",
    "\n",
    "nanopubs_df = pd.DataFrame(db.open_table(\"nanopubs\").to_pandas())\n"
   ],
   "id": "ce0439fcb86b4fbf",
   "outputs": [],
   "execution_count": 2
  },
  {
   "metadata": {
    "ExecuteTime": {
     "end_time": "2025-05-29T17:29:04.513578Z",
     "start_time": "2025-05-29T17:29:04.484025Z"
    }
   },
   "cell_type": "code",
   "source": "print(nanopubs_df.columns.values)",
   "id": "c463d12a5e5ae293",
   "outputs": [
    {
     "name": "stdout",
     "output_type": "stream",
     "text": [
      "['subject' 'predicate' 'object' 'filename' 'nodename' 'index']\n"
     ]
    }
   ],
   "execution_count": 3
  },
  {
   "metadata": {},
   "cell_type": "markdown",
   "source": [
    "## Update nanopubs\n",
    "\n",
    "Similar to what we do with entities.  However, since these are triples, we have a different way to visualizing these."
   ],
   "id": "c56c11c8522b1e09"
  },
  {
   "metadata": {
    "ExecuteTime": {
     "end_time": "2025-05-29T17:29:04.561067Z",
     "start_time": "2025-05-29T17:29:04.557940Z"
    }
   },
   "cell_type": "code",
   "source": [
    "nanopubs_df['hashid'] = (nanopubs_df['subject'] + nanopubs_df['predicate'] + nanopubs_df['object']).apply(\n",
    "    lambda x: hashlib.md5(str(x).encode()).hexdigest())\n"
   ],
   "id": "7ecb09ccde987d7a",
   "outputs": [],
   "execution_count": 4
  },
  {
   "metadata": {
    "ExecuteTime": {
     "end_time": "2025-05-29T17:29:04.609403Z",
     "start_time": "2025-05-29T17:29:04.607146Z"
    }
   },
   "cell_type": "code",
   "source": "nanopubs_df['composite_id'] = nanopubs_df['filename'] + '_' + nanopubs_df['nodename'] + '_' + nanopubs_df['index'].astype(str)\n",
   "id": "263495da97ac1fad",
   "outputs": [],
   "execution_count": 5
  },
  {
   "metadata": {},
   "cell_type": "markdown",
   "source": [
    "#### nanopub viz\n",
    "\n",
    "Since the nanopubs is a representation of triples, we can build the nodes and relations\n",
    "if directly:"
   ],
   "id": "38d0edb99f953650"
  },
  {
   "metadata": {
    "ExecuteTime": {
     "end_time": "2025-05-29T17:29:04.659443Z",
     "start_time": "2025-05-29T17:29:04.657394Z"
    }
   },
   "cell_type": "code",
   "source": "nanonodes = pd.DataFrame(pd.concat([nanopubs_df['subject'], nanopubs_df['object']]).unique(), columns=['node'])\n",
   "id": "bd1edabf6d684c62",
   "outputs": [],
   "execution_count": 6
  },
  {
   "metadata": {
    "ExecuteTime": {
     "end_time": "2025-05-29T17:29:04.708709Z",
     "start_time": "2025-05-29T17:29:04.706687Z"
    }
   },
   "cell_type": "code",
   "source": [
    "nanorels = pd.DataFrame({\n",
    "    'from': nanopubs_df['subject'],\n",
    "    'to': nanopubs_df['object']\n",
    "})\n"
   ],
   "id": "749b49316e95b843",
   "outputs": [],
   "execution_count": 7
  },
  {
   "metadata": {
    "ExecuteTime": {
     "end_time": "2025-05-29T17:29:04.792229Z",
     "start_time": "2025-05-29T17:29:04.758303Z"
    }
   },
   "cell_type": "code",
   "source": [
    "dbnp = kuzu.Database()\n",
    "connnp = kuzu.Connection(dbnp)\n",
    "# connnp.execute(\"INSTALL vector; LOAD vector;\")"
   ],
   "id": "d2d6fdb80877509b",
   "outputs": [],
   "execution_count": 8
  },
  {
   "metadata": {
    "ExecuteTime": {
     "end_time": "2025-05-29T17:29:04.818972Z",
     "start_time": "2025-05-29T17:29:04.808259Z"
    }
   },
   "cell_type": "code",
   "source": "connnp.execute(\"CREATE NODE TABLE Claim(node STRING PRIMARY KEY)\") # add in description and desc_embedding",
   "id": "89beacd29111972c",
   "outputs": [
    {
     "data": {
      "text/plain": [
       "<kuzu.query_result.QueryResult at 0x7e052c0f4980>"
      ]
     },
     "execution_count": 9,
     "metadata": {},
     "output_type": "execute_result"
    }
   ],
   "execution_count": 9
  },
  {
   "metadata": {
    "ExecuteTime": {
     "end_time": "2025-05-29T17:29:04.900523Z",
     "start_time": "2025-05-29T17:29:04.859629Z"
    }
   },
   "cell_type": "code",
   "source": "connnp.execute(\"COPY Claim FROM nanonodes (ignore_errors=true)\")",
   "id": "375f74bb864004b5",
   "outputs": [
    {
     "data": {
      "text/plain": [
       "<kuzu.query_result.QueryResult at 0x7e052c051bd0>"
      ]
     },
     "execution_count": 10,
     "metadata": {},
     "output_type": "execute_result"
    }
   ],
   "execution_count": 10
  },
  {
   "metadata": {
    "ExecuteTime": {
     "end_time": "2025-05-29T17:29:04.921630Z",
     "start_time": "2025-05-29T17:29:04.918463Z"
    }
   },
   "cell_type": "code",
   "source": "connnp.execute(\"CREATE REL TABLE IF NOT EXISTS rels( FROM Claim TO Claim)\")",
   "id": "1fee9562586d0e4c",
   "outputs": [
    {
     "data": {
      "text/plain": [
       "<kuzu.query_result.QueryResult at 0x7e052c051a90>"
      ]
     },
     "execution_count": 11,
     "metadata": {},
     "output_type": "execute_result"
    }
   ],
   "execution_count": 11
  },
  {
   "metadata": {
    "ExecuteTime": {
     "end_time": "2025-05-29T17:29:04.974112Z",
     "start_time": "2025-05-29T17:29:04.970561Z"
    }
   },
   "cell_type": "code",
   "source": "res = connnp.execute(\"COPY rels FROM nanorels\")\n",
   "id": "cfcbcd25f8551662",
   "outputs": [],
   "execution_count": 12
  },
  {
   "metadata": {
    "ExecuteTime": {
     "end_time": "2025-05-29T17:29:05.023877Z",
     "start_time": "2025-05-29T17:29:05.022320Z"
    }
   },
   "cell_type": "code",
   "source": "gnp = KuzuGraphWidget(connnp)",
   "id": "e7f848d0ad7da9f4",
   "outputs": [],
   "execution_count": 13
  },
  {
   "metadata": {
    "ExecuteTime": {
     "end_time": "2025-05-29T17:29:05.138741Z",
     "start_time": "2025-05-29T17:29:05.072411Z"
    }
   },
   "cell_type": "code",
   "source": "gnp.show_cypher(\"MATCH (a)-[b]->(c) RETURN *\")\n",
   "id": "f0a59dca6a88f8ed",
   "outputs": [
    {
     "data": {
      "text/plain": [
       "GraphWidget(layout=Layout(height='800px', width='100%'))"
      ],
      "application/vnd.jupyter.widget-view+json": {
       "version_major": 2,
       "version_minor": 0,
       "model_id": "d1a413211daa4d82b23b945ab84ea67f"
      }
     },
     "metadata": {},
     "output_type": "display_data"
    }
   ],
   "execution_count": 14
  }
 ],
 "metadata": {
  "kernelspec": {
   "display_name": "Python 3",
   "language": "python",
   "name": "python3"
  },
  "language_info": {
   "codemirror_mode": {
    "name": "ipython",
    "version": 2
   },
   "file_extension": ".py",
   "mimetype": "text/x-python",
   "name": "python",
   "nbconvert_exporter": "python",
   "pygments_lexer": "ipython2",
   "version": "2.7.6"
  }
 },
 "nbformat": 4,
 "nbformat_minor": 5
}
