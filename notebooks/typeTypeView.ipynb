{
 "cells": [
  {
   "cell_type": "markdown",
   "id": "8308957c135901ed",
   "metadata": {},
   "source": [
    "# Type Type relation view\n"
   ]
  },
  {
   "cell_type": "code",
   "id": "869d673bb359f772",
   "metadata": {
    "execution": {
     "iopub.execute_input": "2025-04-17T18:04:06.916009Z",
     "iopub.status.busy": "2025-04-17T18:04:06.915685Z",
     "iopub.status.idle": "2025-04-17T18:04:07.405308Z",
     "shell.execute_reply": "2025-04-17T18:04:07.404987Z",
     "shell.execute_reply.started": "2025-04-17T18:04:06.915983Z"
    },
    "ExecuteTime": {
     "end_time": "2025-05-15T15:37:05.771435Z",
     "start_time": "2025-05-15T15:37:05.188188Z"
    }
   },
   "source": [
    "from pyld import jsonld\n",
    "import json\n",
    "import pyoxigraph\n",
    "from pyoxigraph import RdfFormat\n",
    "import io\n",
    "\n",
    "from pyoxigraph.pyoxigraph import RdfFormat\n",
    "from rdflib import Graph\n",
    "import pandas as pd\n",
    "import networkx as nx\n",
    "from ipysigma import Sigma\n",
    "\n",
    "\n",
    "from pygraphml import GraphMLParser\n",
    "from pygraphml import Graph as GraphML\n",
    "from hashlib import sha256"
   ],
   "outputs": [],
   "execution_count": 1
  },
  {
   "cell_type": "code",
   "id": "89527d5415607061",
   "metadata": {
    "execution": {
     "iopub.execute_input": "2025-04-17T18:04:07.406006Z",
     "iopub.status.busy": "2025-04-17T18:04:07.405731Z",
     "iopub.status.idle": "2025-04-17T18:04:07.407837Z",
     "shell.execute_reply": "2025-04-17T18:04:07.407550Z",
     "shell.execute_reply.started": "2025-04-17T18:04:07.405994Z"
    },
    "ExecuteTime": {
     "end_time": "2025-05-15T15:37:08.806436Z",
     "start_time": "2025-05-15T15:37:08.803390Z"
    }
   },
   "source": [
    "store = pyoxigraph.Store()  #    store = pyoxigraph.Store(path=\"./store\")\n",
    "mime_type = RdfFormat.N3 # \"application/n-triples\""
   ],
   "outputs": [],
   "execution_count": 2
  },
  {
   "cell_type": "code",
   "id": "32aed8519c021df8",
   "metadata": {
    "execution": {
     "iopub.execute_input": "2025-04-17T18:04:07.423174Z",
     "iopub.status.busy": "2025-04-17T18:04:07.422787Z",
     "iopub.status.idle": "2025-04-17T18:04:19.686551Z",
     "shell.execute_reply": "2025-04-17T18:04:19.686205Z",
     "shell.execute_reply.started": "2025-04-17T18:04:07.423163Z"
    },
    "ExecuteTime": {
     "end_time": "2025-05-15T15:37:20.197596Z",
     "start_time": "2025-05-15T15:37:09.467499Z"
    }
   },
   "source": [
    "# Read sitemap and load JSON-LD content into the store\n",
    "import requests\n",
    "import xml.etree.ElementTree as ET\n",
    "from urllib.parse import urlparse\n",
    "import os\n",
    "import io\n",
    "\n",
    "def read_sitemap(sitemap_path):\n",
    "    \"\"\"Read sitemap XML file and extract URLs.\"\"\"\n",
    "    # Parse the XML file\n",
    "    tree = ET.parse(sitemap_path)\n",
    "    root = tree.getroot()\n",
    "\n",
    "    # Define the namespace\n",
    "    ns = {'sm': 'http://www.sitemaps.org/schemas/sitemap/0.9'}\n",
    "\n",
    "    # Extract URLs from the sitemap\n",
    "    urls = []\n",
    "    for url_elem in root.findall('.//sm:url', ns):\n",
    "        loc_elem = url_elem.find('sm:loc', ns)\n",
    "        if loc_elem is not None and loc_elem.text:\n",
    "            urls.append(loc_elem.text)\n",
    "\n",
    "    return urls\n",
    "\n",
    "def download_and_process(url, store):\n",
    "    \"\"\"Download JSON-LD content from URL and load it into the store.\"\"\"\n",
    "    try:\n",
    "        print(f\"Processing: {url}\")\n",
    "\n",
    "        # Download the content\n",
    "        response = requests.get(url)\n",
    "        response.raise_for_status()  # Raise an exception for HTTP errors\n",
    "\n",
    "        # Parse the JSON-LD content\n",
    "        c = response.json()\n",
    "\n",
    "        # Normalize the JSON-LD to N-Quads format\n",
    "        normalized = jsonld.normalize(c, {'algorithm': 'URDNA2015', 'format': 'application/n-quads'})\n",
    "\n",
    "        # Load the normalized data into the store\n",
    "        store.load(io.StringIO(normalized), mime_type)\n",
    "\n",
    "        print(f\"Successfully loaded: {url}\")\n",
    "        return True\n",
    "    except Exception as e:\n",
    "        print(f\"Error processing {url}: {str(e)}\")\n",
    "        return False\n",
    "\n",
    "# Path to the sitemap file (can be changed to use a different sitemap)\n",
    "sitemap_path = \"../output/jld-sitemap.xml\"  # Default sitemap file\n",
    "# Uncomment the line below to use a different sitemap file\n",
    "# sitemap_path = \"../output/jdlnew-sitemap.xml\"\n",
    "\n",
    "# Extract URLs from the sitemap\n",
    "urls = read_sitemap(sitemap_path)\n",
    "print(f\"Found {len(urls)} URLs in the sitemap: {sitemap_path}\")\n",
    "\n",
    "# Process each URL and load into the store\n",
    "successful = 0\n",
    "for url in urls:\n",
    "    if download_and_process(url, store):\n",
    "        successful += 1\n",
    "\n",
    "print(f\"Successfully processed {successful} out of {len(urls)} URLs\")"
   ],
   "outputs": [
    {
     "name": "stdout",
     "output_type": "stream",
     "text": [
      "Found 71 URLs in the sitemap: ../output/jld-sitemap.xml\n",
      "Processing: https://raw.githubusercontent.com/bio-xyz/BioAgents/main/sampleJsonLds/20250214_085206_s41586_023_06801_2.json\n",
      "Successfully loaded: https://raw.githubusercontent.com/bio-xyz/BioAgents/main/sampleJsonLds/20250214_085206_s41586_023_06801_2.json\n",
      "Processing: https://raw.githubusercontent.com/bio-xyz/BioAgents/main/sampleJsonLds/20250214_085208_pmc.json\n",
      "Successfully loaded: https://raw.githubusercontent.com/bio-xyz/BioAgents/main/sampleJsonLds/20250214_085208_pmc.json\n",
      "Processing: https://raw.githubusercontent.com/bio-xyz/BioAgents/main/sampleJsonLds/20250214_085217_s41590_024_01915_9.json\n",
      "Successfully loaded: https://raw.githubusercontent.com/bio-xyz/BioAgents/main/sampleJsonLds/20250214_085217_s41590_024_01915_9.json\n",
      "Processing: https://raw.githubusercontent.com/bio-xyz/BioAgents/main/sampleJsonLds/20250214_085221_www.json\n",
      "Successfully loaded: https://raw.githubusercontent.com/bio-xyz/BioAgents/main/sampleJsonLds/20250214_085221_www.json\n",
      "Processing: https://raw.githubusercontent.com/bio-xyz/BioAgents/main/sampleJsonLds/20250214_085230_pmc.json\n",
      "Successfully loaded: https://raw.githubusercontent.com/bio-xyz/BioAgents/main/sampleJsonLds/20250214_085230_pmc.json\n",
      "Processing: https://raw.githubusercontent.com/bio-xyz/BioAgents/main/sampleJsonLds/20250214_085233_pmc.json\n",
      "Successfully loaded: https://raw.githubusercontent.com/bio-xyz/BioAgents/main/sampleJsonLds/20250214_085233_pmc.json\n",
      "Processing: https://raw.githubusercontent.com/bio-xyz/BioAgents/main/sampleJsonLds/20250214_085237_www.json\n",
      "Successfully loaded: https://raw.githubusercontent.com/bio-xyz/BioAgents/main/sampleJsonLds/20250214_085237_www.json\n",
      "Processing: https://raw.githubusercontent.com/bio-xyz/BioAgents/main/sampleJsonLds/20250214_085242_s11357_023_00728_2.json\n",
      "Successfully loaded: https://raw.githubusercontent.com/bio-xyz/BioAgents/main/sampleJsonLds/20250214_085242_s11357_023_00728_2.json\n",
      "Processing: https://raw.githubusercontent.com/bio-xyz/BioAgents/main/sampleJsonLds/20250214_085246_s00415_023_11878_w.json\n",
      "Successfully loaded: https://raw.githubusercontent.com/bio-xyz/BioAgents/main/sampleJsonLds/20250214_085246_s00415_023_11878_w.json\n",
      "Processing: https://raw.githubusercontent.com/bio-xyz/BioAgents/main/sampleJsonLds/20250214_085250_www.json\n",
      "Successfully loaded: https://raw.githubusercontent.com/bio-xyz/BioAgents/main/sampleJsonLds/20250214_085250_www.json\n",
      "Processing: https://raw.githubusercontent.com/bio-xyz/BioAgents/main/sampleJsonLds/20250214_085255_www.json\n",
      "Successfully loaded: https://raw.githubusercontent.com/bio-xyz/BioAgents/main/sampleJsonLds/20250214_085255_www.json\n",
      "Processing: https://raw.githubusercontent.com/bio-xyz/BioAgents/main/sampleJsonLds/20250214_085259_www.json\n",
      "Successfully loaded: https://raw.githubusercontent.com/bio-xyz/BioAgents/main/sampleJsonLds/20250214_085259_www.json\n",
      "Processing: https://raw.githubusercontent.com/bio-xyz/BioAgents/main/sampleJsonLds/20250214_085303_www.json\n",
      "Successfully loaded: https://raw.githubusercontent.com/bio-xyz/BioAgents/main/sampleJsonLds/20250214_085303_www.json\n",
      "Processing: https://raw.githubusercontent.com/bio-xyz/BioAgents/main/sampleJsonLds/20250214_085308_www.json\n",
      "Successfully loaded: https://raw.githubusercontent.com/bio-xyz/BioAgents/main/sampleJsonLds/20250214_085308_www.json\n",
      "Processing: https://raw.githubusercontent.com/bio-xyz/BioAgents/main/sampleJsonLds/20250214_085316_www.json\n",
      "Successfully loaded: https://raw.githubusercontent.com/bio-xyz/BioAgents/main/sampleJsonLds/20250214_085316_www.json\n",
      "Processing: https://raw.githubusercontent.com/bio-xyz/BioAgents/main/sampleJsonLds/20250214_085319_www.json\n",
      "Successfully loaded: https://raw.githubusercontent.com/bio-xyz/BioAgents/main/sampleJsonLds/20250214_085319_www.json\n",
      "Processing: https://raw.githubusercontent.com/bio-xyz/BioAgents/main/sampleJsonLds/20250214_085323_www.json\n",
      "Successfully loaded: https://raw.githubusercontent.com/bio-xyz/BioAgents/main/sampleJsonLds/20250214_085323_www.json\n",
      "Processing: https://raw.githubusercontent.com/bio-xyz/BioAgents/main/sampleJsonLds/20250214_085327_pmc.json\n",
      "Successfully loaded: https://raw.githubusercontent.com/bio-xyz/BioAgents/main/sampleJsonLds/20250214_085327_pmc.json\n",
      "Processing: https://raw.githubusercontent.com/bio-xyz/BioAgents/main/sampleJsonLds/20250214_085333_s41368_023_00228_1.json\n",
      "Successfully loaded: https://raw.githubusercontent.com/bio-xyz/BioAgents/main/sampleJsonLds/20250214_085333_s41368_023_00228_1.json\n",
      "Processing: https://raw.githubusercontent.com/bio-xyz/BioAgents/main/sampleJsonLds/20250214_085341_www.json\n",
      "Successfully loaded: https://raw.githubusercontent.com/bio-xyz/BioAgents/main/sampleJsonLds/20250214_085341_www.json\n",
      "Processing: https://raw.githubusercontent.com/bio-xyz/BioAgents/main/sampleJsonLds/20250214_085344_www.json\n",
      "Successfully loaded: https://raw.githubusercontent.com/bio-xyz/BioAgents/main/sampleJsonLds/20250214_085344_www.json\n",
      "Processing: https://raw.githubusercontent.com/bio-xyz/BioAgents/main/sampleJsonLds/20250214_085351_text.json\n",
      "Successfully loaded: https://raw.githubusercontent.com/bio-xyz/BioAgents/main/sampleJsonLds/20250214_085351_text.json\n",
      "Processing: https://raw.githubusercontent.com/bio-xyz/BioAgents/main/sampleJsonLds/20250214_085357_s43587_023_00560_5.json\n",
      "Successfully loaded: https://raw.githubusercontent.com/bio-xyz/BioAgents/main/sampleJsonLds/20250214_085357_s43587_023_00560_5.json\n",
      "Processing: https://raw.githubusercontent.com/bio-xyz/BioAgents/main/sampleJsonLds/20250214_085402_s41586_023_06621_4.json\n",
      "Successfully loaded: https://raw.githubusercontent.com/bio-xyz/BioAgents/main/sampleJsonLds/20250214_085402_s41586_023_06621_4.json\n",
      "Processing: https://raw.githubusercontent.com/bio-xyz/BioAgents/main/sampleJsonLds/20250214_085406_s00401_023_02574_0.json\n",
      "Successfully loaded: https://raw.githubusercontent.com/bio-xyz/BioAgents/main/sampleJsonLds/20250214_085406_s00401_023_02574_0.json\n",
      "Processing: https://raw.githubusercontent.com/bio-xyz/BioAgents/main/sampleJsonLds/20250214_085410_www.json\n",
      "Successfully loaded: https://raw.githubusercontent.com/bio-xyz/BioAgents/main/sampleJsonLds/20250214_085410_www.json\n",
      "Processing: https://raw.githubusercontent.com/bio-xyz/BioAgents/main/sampleJsonLds/20250214_085416_www.json\n",
      "Successfully loaded: https://raw.githubusercontent.com/bio-xyz/BioAgents/main/sampleJsonLds/20250214_085416_www.json\n",
      "Processing: https://raw.githubusercontent.com/bio-xyz/BioAgents/main/sampleJsonLds/20250214_085421_s41586_022_05535_x.json\n",
      "Successfully loaded: https://raw.githubusercontent.com/bio-xyz/BioAgents/main/sampleJsonLds/20250214_085421_s41586_022_05535_x.json\n",
      "Processing: https://raw.githubusercontent.com/bio-xyz/BioAgents/main/sampleJsonLds/20250214_085426_www.json\n",
      "Successfully loaded: https://raw.githubusercontent.com/bio-xyz/BioAgents/main/sampleJsonLds/20250214_085426_www.json\n",
      "Processing: https://raw.githubusercontent.com/bio-xyz/BioAgents/main/sampleJsonLds/20250214_085433_s00428_024_03748_1.json\n",
      "Successfully loaded: https://raw.githubusercontent.com/bio-xyz/BioAgents/main/sampleJsonLds/20250214_085433_s00428_024_03748_1.json\n",
      "Processing: https://raw.githubusercontent.com/bio-xyz/BioAgents/main/sampleJsonLds/20250214_085436_www.json\n",
      "Successfully loaded: https://raw.githubusercontent.com/bio-xyz/BioAgents/main/sampleJsonLds/20250214_085436_www.json\n",
      "Processing: https://raw.githubusercontent.com/bio-xyz/BioAgents/main/sampleJsonLds/20250214_085441_www.json\n",
      "Successfully loaded: https://raw.githubusercontent.com/bio-xyz/BioAgents/main/sampleJsonLds/20250214_085441_www.json\n",
      "Processing: https://raw.githubusercontent.com/bio-xyz/BioAgents/main/sampleJsonLds/20250214_085444_www.json\n",
      "Successfully loaded: https://raw.githubusercontent.com/bio-xyz/BioAgents/main/sampleJsonLds/20250214_085444_www.json\n",
      "Processing: https://raw.githubusercontent.com/bio-xyz/BioAgents/main/sampleJsonLds/20250214_085449_s41422_024_01057_5.json\n",
      "Successfully loaded: https://raw.githubusercontent.com/bio-xyz/BioAgents/main/sampleJsonLds/20250214_085449_s41422_024_01057_5.json\n",
      "Processing: https://raw.githubusercontent.com/bio-xyz/BioAgents/main/sampleJsonLds/20250214_085454_75540.json\n",
      "Successfully loaded: https://raw.githubusercontent.com/bio-xyz/BioAgents/main/sampleJsonLds/20250214_085454_75540.json\n",
      "Processing: https://raw.githubusercontent.com/bio-xyz/BioAgents/main/sampleJsonLds/20250214_085540_www.json\n",
      "Successfully loaded: https://raw.githubusercontent.com/bio-xyz/BioAgents/main/sampleJsonLds/20250214_085540_www.json\n",
      "Processing: https://raw.githubusercontent.com/bio-xyz/BioAgents/main/sampleJsonLds/20250214_085544_www.json\n",
      "Successfully loaded: https://raw.githubusercontent.com/bio-xyz/BioAgents/main/sampleJsonLds/20250214_085544_www.json\n",
      "Processing: https://raw.githubusercontent.com/bio-xyz/BioAgents/main/sampleJsonLds/20250214_085549_www.json\n",
      "Successfully loaded: https://raw.githubusercontent.com/bio-xyz/BioAgents/main/sampleJsonLds/20250214_085549_www.json\n",
      "Processing: https://raw.githubusercontent.com/bio-xyz/BioAgents/main/sampleJsonLds/20250214_085551_pmc.json\n",
      "Successfully loaded: https://raw.githubusercontent.com/bio-xyz/BioAgents/main/sampleJsonLds/20250214_085551_pmc.json\n",
      "Processing: https://raw.githubusercontent.com/bio-xyz/BioAgents/main/sampleJsonLds/20250214_085554_s13195_022_01128_y.json\n",
      "Successfully loaded: https://raw.githubusercontent.com/bio-xyz/BioAgents/main/sampleJsonLds/20250214_085554_s13195_022_01128_y.json\n",
      "Processing: https://raw.githubusercontent.com/bio-xyz/BioAgents/main/sampleJsonLds/20250214_085600_www.json\n",
      "Successfully loaded: https://raw.githubusercontent.com/bio-xyz/BioAgents/main/sampleJsonLds/20250214_085600_www.json\n",
      "Processing: https://raw.githubusercontent.com/bio-xyz/BioAgents/main/sampleJsonLds/20250214_085604_s41591_023_02326_3.json\n",
      "Successfully loaded: https://raw.githubusercontent.com/bio-xyz/BioAgents/main/sampleJsonLds/20250214_085604_s41591_023_02326_3.json\n",
      "Processing: https://raw.githubusercontent.com/bio-xyz/BioAgents/main/sampleJsonLds/20250214_085607_www.json\n",
      "Successfully loaded: https://raw.githubusercontent.com/bio-xyz/BioAgents/main/sampleJsonLds/20250214_085607_www.json\n",
      "Processing: https://raw.githubusercontent.com/bio-xyz/BioAgents/main/sampleJsonLds/20250214_085612_s41586_023_06899_4.json\n",
      "Successfully loaded: https://raw.githubusercontent.com/bio-xyz/BioAgents/main/sampleJsonLds/20250214_085612_s41586_023_06899_4.json\n",
      "Processing: https://raw.githubusercontent.com/bio-xyz/BioAgents/main/sampleJsonLds/20250214_085617_www.json\n",
      "Successfully loaded: https://raw.githubusercontent.com/bio-xyz/BioAgents/main/sampleJsonLds/20250214_085617_www.json\n",
      "Processing: https://raw.githubusercontent.com/bio-xyz/BioAgents/main/sampleJsonLds/20250214_085622_www.json\n",
      "Successfully loaded: https://raw.githubusercontent.com/bio-xyz/BioAgents/main/sampleJsonLds/20250214_085622_www.json\n",
      "Processing: https://raw.githubusercontent.com/bio-xyz/BioAgents/main/sampleJsonLds/20250214_085625_www.json\n",
      "Successfully loaded: https://raw.githubusercontent.com/bio-xyz/BioAgents/main/sampleJsonLds/20250214_085625_www.json\n",
      "Processing: https://raw.githubusercontent.com/bio-xyz/BioAgents/main/sampleJsonLds/20250214_085627_www.json\n",
      "Successfully loaded: https://raw.githubusercontent.com/bio-xyz/BioAgents/main/sampleJsonLds/20250214_085627_www.json\n",
      "Processing: https://raw.githubusercontent.com/bio-xyz/BioAgents/main/sampleJsonLds/20250214_085632_www.json\n",
      "Successfully loaded: https://raw.githubusercontent.com/bio-xyz/BioAgents/main/sampleJsonLds/20250214_085632_www.json\n",
      "Processing: https://raw.githubusercontent.com/bio-xyz/BioAgents/main/sampleJsonLds/20250214_085637_www.json\n",
      "Successfully loaded: https://raw.githubusercontent.com/bio-xyz/BioAgents/main/sampleJsonLds/20250214_085637_www.json\n",
      "Processing: https://raw.githubusercontent.com/bio-xyz/BioAgents/main/sampleJsonLds/20250214_085642_www.json\n",
      "Successfully loaded: https://raw.githubusercontent.com/bio-xyz/BioAgents/main/sampleJsonLds/20250214_085642_www.json\n",
      "Processing: https://raw.githubusercontent.com/bio-xyz/BioAgents/main/sampleJsonLds/20250214_085648_www.json\n",
      "Successfully loaded: https://raw.githubusercontent.com/bio-xyz/BioAgents/main/sampleJsonLds/20250214_085648_www.json\n",
      "Processing: https://raw.githubusercontent.com/bio-xyz/BioAgents/main/sampleJsonLds/20250214_085653_s11357_023_00927_x.json\n",
      "Successfully loaded: https://raw.githubusercontent.com/bio-xyz/BioAgents/main/sampleJsonLds/20250214_085653_s11357_023_00927_x.json\n",
      "Processing: https://raw.githubusercontent.com/bio-xyz/BioAgents/main/sampleJsonLds/20250214_085658_s41586_024_07701_9.json\n",
      "Successfully loaded: https://raw.githubusercontent.com/bio-xyz/BioAgents/main/sampleJsonLds/20250214_085658_s41586_024_07701_9.json\n",
      "Processing: https://raw.githubusercontent.com/bio-xyz/BioAgents/main/sampleJsonLds/20250214_085701_s41586_023_06426_5.json\n",
      "Successfully loaded: https://raw.githubusercontent.com/bio-xyz/BioAgents/main/sampleJsonLds/20250214_085701_s41586_023_06426_5.json\n",
      "Processing: https://raw.githubusercontent.com/bio-xyz/BioAgents/main/sampleJsonLds/20250214_085706_s12915_023_01609_y.json\n",
      "Successfully loaded: https://raw.githubusercontent.com/bio-xyz/BioAgents/main/sampleJsonLds/20250214_085706_s12915_023_01609_y.json\n",
      "Processing: https://raw.githubusercontent.com/bio-xyz/BioAgents/main/sampleJsonLds/20250214_085711_www.json\n",
      "Successfully loaded: https://raw.githubusercontent.com/bio-xyz/BioAgents/main/sampleJsonLds/20250214_085711_www.json\n",
      "Processing: https://raw.githubusercontent.com/bio-xyz/BioAgents/main/sampleJsonLds/20250214_085714_www.json\n",
      "Successfully loaded: https://raw.githubusercontent.com/bio-xyz/BioAgents/main/sampleJsonLds/20250214_085714_www.json\n",
      "Processing: https://raw.githubusercontent.com/bio-xyz/BioAgents/main/sampleJsonLds/20250214_085718_www.json\n",
      "Successfully loaded: https://raw.githubusercontent.com/bio-xyz/BioAgents/main/sampleJsonLds/20250214_085718_www.json\n",
      "Processing: https://raw.githubusercontent.com/bio-xyz/BioAgents/main/sampleJsonLds/20250214_085722_www.json\n",
      "Successfully loaded: https://raw.githubusercontent.com/bio-xyz/BioAgents/main/sampleJsonLds/20250214_085722_www.json\n",
      "Processing: https://raw.githubusercontent.com/bio-xyz/BioAgents/main/sampleJsonLds/20250214_085725_www.json\n",
      "Successfully loaded: https://raw.githubusercontent.com/bio-xyz/BioAgents/main/sampleJsonLds/20250214_085725_www.json\n",
      "Processing: https://raw.githubusercontent.com/bio-xyz/BioAgents/main/sampleJsonLds/20250214_085731_www.json\n",
      "Successfully loaded: https://raw.githubusercontent.com/bio-xyz/BioAgents/main/sampleJsonLds/20250214_085731_www.json\n",
      "Processing: https://raw.githubusercontent.com/bio-xyz/BioAgents/main/sampleJsonLds/20250214_085735_www.json\n",
      "Successfully loaded: https://raw.githubusercontent.com/bio-xyz/BioAgents/main/sampleJsonLds/20250214_085735_www.json\n",
      "Processing: https://raw.githubusercontent.com/bio-xyz/BioAgents/main/sampleJsonLds/20250214_085740_s41586_024_07132_6.json\n",
      "Successfully loaded: https://raw.githubusercontent.com/bio-xyz/BioAgents/main/sampleJsonLds/20250214_085740_s41586_024_07132_6.json\n",
      "Processing: https://raw.githubusercontent.com/bio-xyz/BioAgents/main/sampleJsonLds/20250214_085743_www.json\n",
      "Successfully loaded: https://raw.githubusercontent.com/bio-xyz/BioAgents/main/sampleJsonLds/20250214_085743_www.json\n",
      "Processing: https://raw.githubusercontent.com/bio-xyz/BioAgents/main/sampleJsonLds/20250214_085747_www.json\n",
      "Successfully loaded: https://raw.githubusercontent.com/bio-xyz/BioAgents/main/sampleJsonLds/20250214_085747_www.json\n",
      "Processing: https://raw.githubusercontent.com/bio-xyz/BioAgents/main/sampleJsonLds/20250214_085750_s41586_024_07332_0.json\n",
      "Successfully loaded: https://raw.githubusercontent.com/bio-xyz/BioAgents/main/sampleJsonLds/20250214_085750_s41586_024_07332_0.json\n",
      "Processing: https://raw.githubusercontent.com/bio-xyz/BioAgents/main/sampleJsonLds/20250214_085756_www.json\n",
      "Successfully loaded: https://raw.githubusercontent.com/bio-xyz/BioAgents/main/sampleJsonLds/20250214_085756_www.json\n",
      "Processing: https://raw.githubusercontent.com/bio-xyz/BioAgents/main/sampleJsonLds/20250214_085759_s43587_024_00663_7.json\n",
      "Successfully loaded: https://raw.githubusercontent.com/bio-xyz/BioAgents/main/sampleJsonLds/20250214_085759_s43587_024_00663_7.json\n",
      "Processing: https://raw.githubusercontent.com/bio-xyz/BioAgents/main/sampleJsonLds/20250214_085803_www.json\n",
      "Successfully loaded: https://raw.githubusercontent.com/bio-xyz/BioAgents/main/sampleJsonLds/20250214_085803_www.json\n",
      "Processing: https://raw.githubusercontent.com/bio-xyz/BioAgents/main/sampleJsonLds/20250214_085811_elife_79196_v1.json\n",
      "Successfully loaded: https://raw.githubusercontent.com/bio-xyz/BioAgents/main/sampleJsonLds/20250214_085811_elife_79196_v1.json\n",
      "Successfully processed 71 out of 71 URLs\n"
     ]
    }
   ],
   "execution_count": 3
  },
  {
   "cell_type": "code",
   "id": "92bf159bce793def",
   "metadata": {
    "execution": {
     "iopub.execute_input": "2025-04-17T18:04:19.687203Z",
     "iopub.status.busy": "2025-04-17T18:04:19.687092Z",
     "iopub.status.idle": "2025-04-17T18:04:19.694086Z",
     "shell.execute_reply": "2025-04-17T18:04:19.693648Z",
     "shell.execute_reply.started": "2025-04-17T18:04:19.687194Z"
    },
    "ExecuteTime": {
     "end_time": "2025-05-15T15:37:24.758071Z",
     "start_time": "2025-05-15T15:37:24.750519Z"
    }
   },
   "source": [
    "# OPTIONAL save as an RDF file\n",
    "store.dump(\"../output/biograph.nt\", format=RdfFormat.N_QUADS)  #  odd that it wants quads even for a graph without named graphs?"
   ],
   "outputs": [],
   "execution_count": 4
  },
  {
   "cell_type": "code",
   "id": "9cfabac4c03f29f5",
   "metadata": {
    "execution": {
     "iopub.execute_input": "2025-04-17T18:04:19.694581Z",
     "iopub.status.busy": "2025-04-17T18:04:19.694474Z",
     "iopub.status.idle": "2025-04-17T18:04:19.696898Z",
     "shell.execute_reply": "2025-04-17T18:04:19.696547Z",
     "shell.execute_reply.started": "2025-04-17T18:04:19.694572Z"
    },
    "ExecuteTime": {
     "end_time": "2025-05-15T15:37:25.487607Z",
     "start_time": "2025-05-15T15:37:25.485390Z"
    }
   },
   "source": [
    "rq1 = \"\"\"PREFIX rdf: <http://www.w3.org/1999/02/22-rdf-syntax-ns#>\n",
    "PREFIX rdfs: <http://www.w3.org/2000/01/rdf-schema#>\n",
    "PREFIX xsd: <http://www.w3.org/2001/XMLSchema#>\n",
    "PREFIX schema: <https://schema.org/>\n",
    "\n",
    "SELECT DISTINCT ?source ?type ?target ?sType ?tType ?sname ?tname\n",
    "WHERE {\n",
    "    ?source a ?sType .\n",
    "    ?target a ?tType .\n",
    "    ?source ?type ?target .\n",
    "    OPTIONAL {?source schema:name ?sname} .\n",
    "    OPTIONAL { ?target schema:name ?tname }.\n",
    "}\n",
    "\"\"\"\n",
    "\n",
    "rq4 = \"\"\"PREFIX rdf: <http://www.w3.org/1999/02/22-rdf-syntax-ns#>\n",
    "PREFIX rdfs: <http://www.w3.org/2000/01/rdf-schema#>\n",
    "PREFIX xsd: <http://www.w3.org/2001/XMLSchema#>\n",
    "PREFIX schema: <https://schema.org/>\n",
    "\n",
    "SELECT DISTINCT  ?source ?name ?type ?target ?sType ?tType\n",
    "WHERE {\n",
    "BIND (schema:Dataset as ?sType) .\n",
    "BIND (schema:author  as ?type) .\n",
    "\n",
    "?source a ?sType .\n",
    "?source schema:citation ?citation .\n",
    "?citation ?type ?target .\n",
    "?target schema:name ?name .\n",
    "?target a ?tType\n",
    "}\n",
    "\"\"\"\n"
   ],
   "outputs": [],
   "execution_count": 5
  },
  {
   "cell_type": "code",
   "id": "a45e74aac183731f",
   "metadata": {
    "execution": {
     "iopub.execute_input": "2025-04-17T18:04:19.697760Z",
     "iopub.status.busy": "2025-04-17T18:04:19.697612Z",
     "iopub.status.idle": "2025-04-17T18:04:19.712348Z",
     "shell.execute_reply": "2025-04-17T18:04:19.711921Z",
     "shell.execute_reply.started": "2025-04-17T18:04:19.697748Z"
    },
    "ExecuteTime": {
     "end_time": "2025-05-15T15:37:26.647533Z",
     "start_time": "2025-05-15T15:37:26.639231Z"
    }
   },
   "source": [
    "qr = list(store.query(rq1))\n"
   ],
   "outputs": [],
   "execution_count": 6
  },
  {
   "cell_type": "code",
   "id": "29d5a9464c91a55a",
   "metadata": {
    "execution": {
     "iopub.execute_input": "2025-04-17T18:04:19.712762Z",
     "iopub.status.busy": "2025-04-17T18:04:19.712666Z",
     "iopub.status.idle": "2025-04-17T18:04:19.714693Z",
     "shell.execute_reply": "2025-04-17T18:04:19.714412Z",
     "shell.execute_reply.started": "2025-04-17T18:04:19.712754Z"
    },
    "ExecuteTime": {
     "end_time": "2025-05-15T15:37:27.584518Z",
     "start_time": "2025-05-15T15:37:27.581863Z"
    }
   },
   "source": [
    "print(len(qr))\n"
   ],
   "outputs": [
    {
     "name": "stdout",
     "output_type": "stream",
     "text": [
      "1061\n"
     ]
    }
   ],
   "execution_count": 7
  },
  {
   "cell_type": "code",
   "id": "dc8f7f769ad8de87",
   "metadata": {
    "execution": {
     "iopub.execute_input": "2025-04-17T18:04:19.715074Z",
     "iopub.status.busy": "2025-04-17T18:04:19.714980Z",
     "iopub.status.idle": "2025-04-17T18:04:19.746384Z",
     "shell.execute_reply": "2025-04-17T18:04:19.746039Z",
     "shell.execute_reply.started": "2025-04-17T18:04:19.715065Z"
    },
    "ExecuteTime": {
     "end_time": "2025-05-15T15:37:29.592536Z",
     "start_time": "2025-05-15T15:37:29.566049Z"
    }
   },
   "source": [
    "#  yeah, I get it...   don't iterate rows...  PR's welcome for this, being bad is too easy!\n",
    "# for index, row in nodes.iterrows():\n",
    "#    g.add_node(row['Id'])\n",
    "g = GraphML()\n",
    "g.directed = False\n",
    "\n",
    "for r in qr:\n",
    "    n1 = g.add_node(r['source'])\n",
    "    n1['type'] = r['sType']\n",
    "    if r['sname']:  # Check if sname is valid\n",
    "        n1['name'] = r['sname']\n",
    "\n",
    "    n2 = g.add_node(r['target'])\n",
    "    n2['type'] = r['tType']\n",
    "    if r['tname']:  # Check if tname is valid\n",
    "        n2['name'] = r['tname']\n",
    "    # n2['value'] = row['funding.name']\n",
    "\n",
    "    # n3 = g.add_node(row['ahash'])\n",
    "    # n3['type'] = \"Affiliation\"\n",
    "    # n3['value'] = row['affil']\n",
    "\n",
    "    e1 = g.add_edge(n1, n2)\n",
    "    # e2 = g.add_edge(n1, n3)\n",
    "    # e['predicate'] = row['type']"
   ],
   "outputs": [],
   "execution_count": 8
  },
  {
   "cell_type": "code",
   "id": "616b646a1a5c665a",
   "metadata": {
    "execution": {
     "iopub.execute_input": "2025-04-17T18:04:19.746866Z",
     "iopub.status.busy": "2025-04-17T18:04:19.746752Z",
     "iopub.status.idle": "2025-04-17T18:04:19.786272Z",
     "shell.execute_reply": "2025-04-17T18:04:19.785944Z",
     "shell.execute_reply.started": "2025-04-17T18:04:19.746856Z"
    },
    "ExecuteTime": {
     "end_time": "2025-05-15T15:37:31.490167Z",
     "start_time": "2025-05-15T15:37:31.445658Z"
    }
   },
   "source": [
    "fname = \"testGraphML.graphml\"\n",
    "parser = GraphMLParser()\n",
    "parser.write(g, fname)"
   ],
   "outputs": [],
   "execution_count": 9
  },
  {
   "cell_type": "code",
   "id": "b0f563c52a4d9f63",
   "metadata": {
    "execution": {
     "iopub.execute_input": "2025-04-17T18:04:19.786688Z",
     "iopub.status.busy": "2025-04-17T18:04:19.786596Z",
     "iopub.status.idle": "2025-04-17T18:04:19.817885Z",
     "shell.execute_reply": "2025-04-17T18:04:19.817524Z",
     "shell.execute_reply.started": "2025-04-17T18:04:19.786680Z"
    },
    "ExecuteTime": {
     "end_time": "2025-05-15T15:37:32.856151Z",
     "start_time": "2025-05-15T15:37:32.828876Z"
    }
   },
   "source": [
    "g = nx.read_graphml(\"testGraphML.graphml\")"
   ],
   "outputs": [],
   "execution_count": 10
  },
  {
   "cell_type": "code",
   "id": "dc04749adbe68053",
   "metadata": {
    "execution": {
     "iopub.execute_input": "2025-04-17T18:04:45.683462Z",
     "iopub.status.busy": "2025-04-17T18:04:45.683106Z",
     "iopub.status.idle": "2025-04-17T18:04:45.698004Z",
     "shell.execute_reply": "2025-04-17T18:04:45.697595Z",
     "shell.execute_reply.started": "2025-04-17T18:04:45.683450Z"
    },
    "ExecuteTime": {
     "end_time": "2025-05-15T15:38:14.159178Z",
     "start_time": "2025-05-15T15:38:14.146033Z"
    }
   },
   "source": [
    "Sigma(\n",
    "    g,\n",
    "    node_size=g.degree,\n",
    "    default_edge_type='curve',\n",
    "    node_border_color_from='node',\n",
    "    node_metrics=['louvain'],\n",
    "    node_color='type',\n",
    "    start_layout=5,\n",
    "    edge_size=lambda u, v: g.degree(u) + g.degree(v),\n",
    "    edge_size_range=(0.5, 5),\n",
    "    label_font='cursive',\n",
    "    node_label_size=g.degree,\n",
    "    label_density=0\n",
    ")"
   ],
   "outputs": [
    {
     "data": {
      "text/plain": [
       "Sigma(nx.MultiGraph with 471 nodes and 1,061 edges)"
      ],
      "application/vnd.jupyter.widget-view+json": {
       "version_major": 2,
       "version_minor": 0,
       "model_id": "5c8672432477436c9bd9c0821adbe635"
      }
     },
     "execution_count": 14,
     "metadata": {},
     "output_type": "execute_result"
    }
   ],
   "execution_count": 14
  },
  {
   "cell_type": "code",
   "id": "c897c44557ae6cbe",
   "metadata": {
    "execution": {
     "iopub.execute_input": "2025-04-17T18:04:19.853320Z",
     "iopub.status.busy": "2025-04-17T18:04:19.853080Z",
     "iopub.status.idle": "2025-04-17T18:04:19.856842Z",
     "shell.execute_reply": "2025-04-17T18:04:19.856345Z",
     "shell.execute_reply.started": "2025-04-17T18:04:19.853298Z"
    },
    "ExecuteTime": {
     "end_time": "2025-05-15T15:37:38.729864Z",
     "start_time": "2025-05-15T15:37:38.726578Z"
    }
   },
   "source": [
    "from typing import Union, Any\n",
    "\n",
    "def custom_node_color_mapping(node: dict[str, Any]):\n",
    "    \"\"\"let the color be orange or blue if the index is even or odd respectively\"\"\"\n",
    "    return (\"#eb4934\" if node['properties']['type'] == \"Dataset\" else \"#2456d4\")"
   ],
   "outputs": [],
   "execution_count": 12
  },
  {
   "cell_type": "code",
   "id": "9098f7cab2c3ffc8",
   "metadata": {
    "execution": {
     "iopub.execute_input": "2025-04-17T18:04:19.857685Z",
     "iopub.status.busy": "2025-04-17T18:04:19.857440Z",
     "iopub.status.idle": "2025-04-17T18:04:19.992279Z",
     "shell.execute_reply": "2025-04-17T18:04:19.991889Z",
     "shell.execute_reply.started": "2025-04-17T18:04:19.857641Z"
    },
    "ExecuteTime": {
     "end_time": "2025-05-15T15:37:39.874909Z",
     "start_time": "2025-05-15T15:37:39.765571Z"
    }
   },
   "source": [
    "from yfiles_jupyter_graphs import GraphWidget\n",
    "\n",
    "w = GraphWidget(graph=g)\n",
    "w.set_sidebar(enabled=False)\n",
    "w.set_node_color_mapping(custom_node_color_mapping)\n",
    "\n",
    "display(w)"
   ],
   "outputs": [
    {
     "data": {
      "text/plain": [
       "GraphWidget(layout=Layout(height='800px', width='100%'))"
      ],
      "application/vnd.jupyter.widget-view+json": {
       "version_major": 2,
       "version_minor": 0,
       "model_id": "b9e1d7a7da7a4dce951f1f9887c807cd"
      }
     },
     "metadata": {},
     "output_type": "display_data"
    }
   ],
   "execution_count": 13
  },
  {
   "cell_type": "code",
   "execution_count": null,
   "id": "a392c724c02f479c",
   "metadata": {},
   "outputs": [],
   "source": []
  },
  {
   "cell_type": "code",
   "execution_count": null,
   "id": "3b91947e-793b-4504-8abc-d7736bd1c6b5",
   "metadata": {},
   "outputs": [],
   "source": []
  }
 ],
 "metadata": {
  "kernelspec": {
   "display_name": "Python 3 (ipykernel)",
   "language": "python",
   "name": "python3"
  },
  "language_info": {
   "codemirror_mode": {
    "name": "ipython",
    "version": 3
   },
   "file_extension": ".py",
   "mimetype": "text/x-python",
   "name": "python",
   "nbconvert_exporter": "python",
   "pygments_lexer": "ipython3",
   "version": "3.13.1"
  }
 },
 "nbformat": 4,
 "nbformat_minor": 5
}
