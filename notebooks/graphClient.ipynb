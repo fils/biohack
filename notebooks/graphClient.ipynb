{
 "cells": [
  {
   "metadata": {},
   "cell_type": "markdown",
   "source": [
    "# Simple queries and visuals\n",
    "\n",
    "Take the data from LanceDB and form up some dataframes to load up KuzuDB with.  Then do a few simple visualizations to see relations.\n",
    "\n",
    "Next steps:\n",
    "- https://docs.kuzudb.com/extensions/vector/\n",
    "- https://docs.kuzudb.com/extensions/full-text-search/\n"
   ],
   "id": "397b0c608ae268b5"
  },
  {
   "metadata": {
    "ExecuteTime": {
     "end_time": "2025-06-01T02:05:31.879338Z",
     "start_time": "2025-06-01T02:05:29.404917Z"
    }
   },
   "cell_type": "code",
   "source": [
    "import kuzu\n",
    "from yfiles_jupyter_graphs_for_kuzu import KuzuGraphWidget\n",
    "import lancedb\n",
    "import pandas as pd\n",
    "import hashlib\n",
    "from sentence_transformers import SentenceTransformer\n"
   ],
   "id": "ba1b9f70812bcb8d",
   "outputs": [],
   "execution_count": 3
  },
  {
   "metadata": {
    "ExecuteTime": {
     "end_time": "2025-06-01T02:05:33.888778Z",
     "start_time": "2025-06-01T02:05:32.619601Z"
    }
   },
   "cell_type": "code",
   "source": "model = SentenceTransformer(\"all-MiniLM-L6-v2\")",
   "id": "42c0a12ff359c0a3",
   "outputs": [
    {
     "name": "stderr",
     "output_type": "stream",
     "text": [
      "/home/fils/scratch/biohack/.venv/lib/python3.13/site-packages/torch/cuda/__init__.py:174: UserWarning: CUDA initialization: CUDA unknown error - this may be due to an incorrectly set up environment, e.g. changing env variable CUDA_VISIBLE_DEVICES after program start. Setting the available devices to be zero. (Triggered internally at /pytorch/c10/cuda/CUDAFunctions.cpp:109.)\n",
      "  return torch._C._cuda_getDeviceCount() > 0\n"
     ]
    }
   ],
   "execution_count": 4
  },
  {
   "metadata": {
    "ExecuteTime": {
     "end_time": "2025-06-01T02:05:34.278246Z",
     "start_time": "2025-06-01T02:05:33.889764Z"
    }
   },
   "cell_type": "code",
   "source": [
    "# Open a new in-memory database\n",
    "db = kuzu.Database(\"./graphdb\")\n",
    "conn = kuzu.Connection(db)\n",
    "conn.execute(\"INSTALL vector; LOAD vector;\")"
   ],
   "id": "9c2d310e0647613f",
   "outputs": [
    {
     "data": {
      "text/plain": [
       "[<kuzu.query_result.QueryResult at 0x717db3cb9010>,\n",
       " <kuzu.query_result.QueryResult at 0x717db3e9b250>]"
      ]
     },
     "execution_count": 5,
     "metadata": {},
     "output_type": "execute_result"
    }
   ],
   "execution_count": 5
  },
  {
   "metadata": {},
   "cell_type": "markdown",
   "source": "### Vector Query",
   "id": "5b1a49ef3068971"
  },
  {
   "metadata": {
    "ExecuteTime": {
     "end_time": "2025-06-01T02:05:34.789423Z",
     "start_time": "2025-06-01T02:05:34.764295Z"
    }
   },
   "cell_type": "code",
   "source": [
    "query_vector = model.encode(\"convolutional neural network\").tolist()\n",
    "result = conn.execute(\n",
    "    \"\"\"\n",
    "    CALL QUERY_VECTOR_INDEX(\n",
    "        'CLAIMS',\n",
    "        'text_vec_index',\n",
    "        $query_vector,\n",
    "        5\n",
    "    )\n",
    "    RETURN node.id, node.filename, node.text ORDER BY distance;\n",
    "    \"\"\",\n",
    "    {\"query_vector\": query_vector})"
   ],
   "id": "fce953738b4a495d",
   "outputs": [],
   "execution_count": 6
  },
  {
   "metadata": {
    "ExecuteTime": {
     "end_time": "2025-06-01T02:05:35.510440Z",
     "start_time": "2025-06-01T02:05:35.507600Z"
    }
   },
   "cell_type": "code",
   "source": "r = result.get_as_df()",
   "id": "184227e9f2c0785a",
   "outputs": [],
   "execution_count": 7
  },
  {
   "metadata": {
    "ExecuteTime": {
     "end_time": "2025-06-01T02:05:36.114600Z",
     "start_time": "2025-06-01T02:05:36.108070Z"
    }
   },
   "cell_type": "code",
   "source": "r",
   "id": "7b72826dcecbd617",
   "outputs": [
    {
     "data": {
      "text/plain": [
       "                               node.id     node.filename  \\\n",
       "0       2202.05901v2.pdf_conclusions_0  2202.05901v2.pdf   \n",
       "1          2202.05901v2.pdf_Cardinal_0  2202.05901v2.pdf   \n",
       "2  2202.05901v2.pdf_futureDirections_0  2202.05901v2.pdf   \n",
       "3        2202.05901v2.pdf_Supporting_0  2202.05901v2.pdf   \n",
       "4  2202.05901v2.pdf_futureDirections_1  2202.05901v2.pdf   \n",
       "\n",
       "                                           node.text  \n",
       "0  Convolutional neural networks can reliably cha...  \n",
       "1  This study demonstrates a convolutional neural...  \n",
       "2  Implementing a single, physics-based loss func...  \n",
       "3  Focusing on the convolutional neural network's...  \n",
       "4  Exploring physics-based turbulence enhancement...  "
      ],
      "text/html": [
       "<div>\n",
       "<style scoped>\n",
       "    .dataframe tbody tr th:only-of-type {\n",
       "        vertical-align: middle;\n",
       "    }\n",
       "\n",
       "    .dataframe tbody tr th {\n",
       "        vertical-align: top;\n",
       "    }\n",
       "\n",
       "    .dataframe thead th {\n",
       "        text-align: right;\n",
       "    }\n",
       "</style>\n",
       "<table border=\"1\" class=\"dataframe\">\n",
       "  <thead>\n",
       "    <tr style=\"text-align: right;\">\n",
       "      <th></th>\n",
       "      <th>node.id</th>\n",
       "      <th>node.filename</th>\n",
       "      <th>node.text</th>\n",
       "    </tr>\n",
       "  </thead>\n",
       "  <tbody>\n",
       "    <tr>\n",
       "      <th>0</th>\n",
       "      <td>2202.05901v2.pdf_conclusions_0</td>\n",
       "      <td>2202.05901v2.pdf</td>\n",
       "      <td>Convolutional neural networks can reliably cha...</td>\n",
       "    </tr>\n",
       "    <tr>\n",
       "      <th>1</th>\n",
       "      <td>2202.05901v2.pdf_Cardinal_0</td>\n",
       "      <td>2202.05901v2.pdf</td>\n",
       "      <td>This study demonstrates a convolutional neural...</td>\n",
       "    </tr>\n",
       "    <tr>\n",
       "      <th>2</th>\n",
       "      <td>2202.05901v2.pdf_futureDirections_0</td>\n",
       "      <td>2202.05901v2.pdf</td>\n",
       "      <td>Implementing a single, physics-based loss func...</td>\n",
       "    </tr>\n",
       "    <tr>\n",
       "      <th>3</th>\n",
       "      <td>2202.05901v2.pdf_Supporting_0</td>\n",
       "      <td>2202.05901v2.pdf</td>\n",
       "      <td>Focusing on the convolutional neural network's...</td>\n",
       "    </tr>\n",
       "    <tr>\n",
       "      <th>4</th>\n",
       "      <td>2202.05901v2.pdf_futureDirections_1</td>\n",
       "      <td>2202.05901v2.pdf</td>\n",
       "      <td>Exploring physics-based turbulence enhancement...</td>\n",
       "    </tr>\n",
       "  </tbody>\n",
       "</table>\n",
       "</div>"
      ]
     },
     "execution_count": 8,
     "metadata": {},
     "output_type": "execute_result"
    }
   ],
   "execution_count": 8
  },
  {
   "metadata": {
    "ExecuteTime": {
     "end_time": "2025-06-01T02:05:37.054026Z",
     "start_time": "2025-06-01T02:05:37.046325Z"
    }
   },
   "cell_type": "code",
   "source": [
    "result = conn.execute(\n",
    "    \"\"\"\n",
    "    CALL QUERY_VECTOR_INDEX(\n",
    "        'CLAIMS',\n",
    "        'text_vec_index',\n",
    "        $query_vector,\n",
    "        5\n",
    "    )\n",
    "    WITH node AS n, distance\n",
    "    MATCH (n)-[b]->(c)\n",
    "    RETURN n.id, b, c.filename, c.text\n",
    "    \"\"\",\n",
    "    {\"query_vector\": query_vector})\n",
    "\n",
    "    # ORDER BY distance LIMIT 3;\n"
   ],
   "id": "761d08f378c9a396",
   "outputs": [],
   "execution_count": 9
  },
  {
   "metadata": {
    "ExecuteTime": {
     "end_time": "2025-06-01T02:05:37.464674Z",
     "start_time": "2025-06-01T02:05:37.461986Z"
    }
   },
   "cell_type": "code",
   "source": "r = result.get_as_df()",
   "id": "829939ca593ff6f2",
   "outputs": [],
   "execution_count": 10
  },
  {
   "metadata": {
    "ExecuteTime": {
     "end_time": "2025-06-01T02:05:38.379412Z",
     "start_time": "2025-06-01T02:05:38.373465Z"
    }
   },
   "cell_type": "code",
   "source": "r",
   "id": "cae70c4af595a26d",
   "outputs": [
    {
     "data": {
      "text/plain": [
       "                               node.id  \\\n",
       "0          2202.05901v2.pdf_Cardinal_0   \n",
       "1        2202.05901v2.pdf_Supporting_0   \n",
       "2       2202.05901v2.pdf_conclusions_0   \n",
       "3  2202.05901v2.pdf_futureDirections_0   \n",
       "4  2202.05901v2.pdf_futureDirections_1   \n",
       "\n",
       "                                                   b        c.filename  \\\n",
       "0  {'_src': {'offset': 0, 'table': 1}, '_dst': {'...  2202.05901v2.pdf   \n",
       "1  {'_src': {'offset': 3, 'table': 1}, '_dst': {'...  2202.05901v2.pdf   \n",
       "2  {'_src': {'offset': 21, 'table': 1}, '_dst': {...  2202.05901v2.pdf   \n",
       "3  {'_src': {'offset': 25, 'table': 1}, '_dst': {...  2202.05901v2.pdf   \n",
       "4  {'_src': {'offset': 26, 'table': 1}, '_dst': {...  2202.05901v2.pdf   \n",
       "\n",
       "                         c.text  \n",
       "0  convolutional neural network  \n",
       "1  convolutional neural network  \n",
       "2             Transformer model  \n",
       "3                      The CNNs  \n",
       "4                      The CNNs  "
      ],
      "text/html": [
       "<div>\n",
       "<style scoped>\n",
       "    .dataframe tbody tr th:only-of-type {\n",
       "        vertical-align: middle;\n",
       "    }\n",
       "\n",
       "    .dataframe tbody tr th {\n",
       "        vertical-align: top;\n",
       "    }\n",
       "\n",
       "    .dataframe thead th {\n",
       "        text-align: right;\n",
       "    }\n",
       "</style>\n",
       "<table border=\"1\" class=\"dataframe\">\n",
       "  <thead>\n",
       "    <tr style=\"text-align: right;\">\n",
       "      <th></th>\n",
       "      <th>node.id</th>\n",
       "      <th>b</th>\n",
       "      <th>c.filename</th>\n",
       "      <th>c.text</th>\n",
       "    </tr>\n",
       "  </thead>\n",
       "  <tbody>\n",
       "    <tr>\n",
       "      <th>0</th>\n",
       "      <td>2202.05901v2.pdf_Cardinal_0</td>\n",
       "      <td>{'_src': {'offset': 0, 'table': 1}, '_dst': {'...</td>\n",
       "      <td>2202.05901v2.pdf</td>\n",
       "      <td>convolutional neural network</td>\n",
       "    </tr>\n",
       "    <tr>\n",
       "      <th>1</th>\n",
       "      <td>2202.05901v2.pdf_Supporting_0</td>\n",
       "      <td>{'_src': {'offset': 3, 'table': 1}, '_dst': {'...</td>\n",
       "      <td>2202.05901v2.pdf</td>\n",
       "      <td>convolutional neural network</td>\n",
       "    </tr>\n",
       "    <tr>\n",
       "      <th>2</th>\n",
       "      <td>2202.05901v2.pdf_conclusions_0</td>\n",
       "      <td>{'_src': {'offset': 21, 'table': 1}, '_dst': {...</td>\n",
       "      <td>2202.05901v2.pdf</td>\n",
       "      <td>Transformer model</td>\n",
       "    </tr>\n",
       "    <tr>\n",
       "      <th>3</th>\n",
       "      <td>2202.05901v2.pdf_futureDirections_0</td>\n",
       "      <td>{'_src': {'offset': 25, 'table': 1}, '_dst': {...</td>\n",
       "      <td>2202.05901v2.pdf</td>\n",
       "      <td>The CNNs</td>\n",
       "    </tr>\n",
       "    <tr>\n",
       "      <th>4</th>\n",
       "      <td>2202.05901v2.pdf_futureDirections_1</td>\n",
       "      <td>{'_src': {'offset': 26, 'table': 1}, '_dst': {...</td>\n",
       "      <td>2202.05901v2.pdf</td>\n",
       "      <td>The CNNs</td>\n",
       "    </tr>\n",
       "  </tbody>\n",
       "</table>\n",
       "</div>"
      ]
     },
     "execution_count": 11,
     "metadata": {},
     "output_type": "execute_result"
    }
   ],
   "execution_count": 11
  },
  {
   "metadata": {},
   "cell_type": "markdown",
   "source": "### Visualize",
   "id": "a886528def33698b"
  },
  {
   "metadata": {
    "ExecuteTime": {
     "end_time": "2025-06-01T02:05:40.746091Z",
     "start_time": "2025-06-01T02:05:40.743499Z"
    }
   },
   "cell_type": "code",
   "source": [
    "# Create a widget instance using the existing connection\n",
    "g = KuzuGraphWidget(conn)\n",
    "\n",
    "def get_node_color(node):\n",
    "    node_type = node[\"properties\"][\"type\"]\n",
    "    if node_type == \"source\":\n",
    "        return \"blue\"  # Or any color you prefer for source\n",
    "    elif node_type == \"claim\":\n",
    "        return \"green\" # Or any color you prefer for claim\n",
    "    elif node_type == \"entities\":\n",
    "        return \"purple\" # Or any color you prefer for entity\n",
    "    else:\n",
    "        return \"gray\"  # Default color for other types\n",
    "\n",
    "g.add_node_configuration(\n",
    "    \"Claim\",  # You might want to change this if the configuration is not just for \"Person\" nodes\n",
    "    color=lambda node: get_node_color(node),  # type: ignore\n",
    "    text=lambda node: {  # type: ignore\n",
    "        \"text\": node[\"properties\"][\"type\"],\n",
    "        \"position\": \"south\",\n",
    "    }\n",
    ")\n",
    "# set up configuration for the graph\n",
    "# Custom configuration for nodes\n",
    "# g.add_node_configuration(\n",
    "#     \"Claim\",\n",
    "#     color=\"red\",   # type: ignore\n",
    "#      text= lambda node : {   # type: ignore\n",
    "#          \"text\": node[\"properties\"][\"type\"],\n",
    "#          \"position\": \"south\",\n",
    "#     }\n",
    "# )\n",
    "\n",
    "# Display the entire graph"
   ],
   "id": "af9aaad5a9bc8c8",
   "outputs": [],
   "execution_count": 12
  },
  {
   "metadata": {
    "ExecuteTime": {
     "start_time": "2025-06-01T02:06:10.894757Z"
    }
   },
   "cell_type": "code",
   "source": [
    "query_vector = model.encode(\"convolutional neural network\").tolist()\n",
    "g.show_cypher(\n",
    "    \"\"\"\n",
    "    CALL QUERY_VECTOR_INDEX(\n",
    "        'CLAIMS',\n",
    "        'text_vec_index',\n",
    "        $query_vector,\n",
    "        5\n",
    "    )\n",
    "    WITH node AS n, distance\n",
    "   MATCH (n)-[b]->(c)\n",
    "    RETURN *\n",
    "    ORDER BY distance LIMIT 3;\n",
    "    \"\"\",\n",
    "    {\"query_vector\": query_vector})\n",
    "\n"
   ],
   "id": "912b3ffa60b80235",
   "outputs": [],
   "execution_count": null
  },
  {
   "metadata": {
    "ExecuteTime": {
     "end_time": "2025-06-01T02:05:43.774668Z",
     "start_time": "2025-06-01T02:05:43.666900Z"
    }
   },
   "cell_type": "code",
   "source": "g.show_cypher(\"MATCH (a)-[b]->(c) RETURN *\")\n",
   "id": "ebb5455be41bbc10",
   "outputs": [
    {
     "data": {
      "text/plain": [
       "GraphWidget(layout=Layout(height='800px', width='100%'))"
      ],
      "application/vnd.jupyter.widget-view+json": {
       "version_major": 2,
       "version_minor": 0,
       "model_id": "0f6a9f36caa14d8b921dafe4a00d1b86"
      }
     },
     "metadata": {},
     "output_type": "display_data"
    }
   ],
   "execution_count": 13
  },
  {
   "metadata": {
    "ExecuteTime": {
     "end_time": "2025-06-01T01:32:10.536010Z",
     "start_time": "2025-06-01T01:32:10.534044Z"
    }
   },
   "cell_type": "code",
   "source": [
    "# g.show_cypher(\"MATCH (a)-[]->(intermediate_node {type: 'claim'})-[]->(c) RETURN *\")\n",
    "# g.show_cypher(\"MATCH conn_path = (a)-[]->(intermediate_node {type: 'claim'})-[]->(c) RETURN a, c, conn_path\")\n",
    "# g.show_cypher(\"MATCH conn_path = (a)-[]->(intermediate_node {type: 'claim'})-[]->(c) RETURN a, c, conn_path\")\n",
    "# MATCH p = (s {type: 'source'})-[*]-(e {type: 'entities'})\n",
    "# RETURN p"
   ],
   "id": "c3867d4d287bf093",
   "outputs": [],
   "execution_count": 9
  },
  {
   "metadata": {
    "ExecuteTime": {
     "end_time": "2025-06-01T01:32:11.031861Z",
     "start_time": "2025-06-01T01:32:10.905491Z"
    }
   },
   "cell_type": "code",
   "source": [
    "# g.show_cypher(\"MATCH p = (start_node {type: 'source'})-[]->(intermediate_node)-[]->(end_node {type: 'entities'}) RETURN p\")\n",
    "g.show_cypher(\"MATCH p = (start_node {type: 'source'})-[]->(intermediate_node)-[]->(end_node {type: 'entities'}) RETURN start_node, end_node, p\")"
   ],
   "id": "2c89b2939c6d54dc",
   "outputs": [
    {
     "ename": "RuntimeError",
     "evalue": "Binder exception: Cannot find property type for start_node.",
     "output_type": "error",
     "traceback": [
      "\u001B[31m---------------------------------------------------------------------------\u001B[39m",
      "\u001B[31mRuntimeError\u001B[39m                              Traceback (most recent call last)",
      "\u001B[36mCell\u001B[39m\u001B[36m \u001B[39m\u001B[32mIn[10]\u001B[39m\u001B[32m, line 2\u001B[39m\n\u001B[32m      1\u001B[39m \u001B[38;5;66;03m# g.show_cypher(\"MATCH p = (start_node {type: 'source'})-[]->(intermediate_node)-[]->(end_node {type: 'entities'}) RETURN p\")\u001B[39;00m\n\u001B[32m----> \u001B[39m\u001B[32m2\u001B[39m \u001B[43mg\u001B[49m\u001B[43m.\u001B[49m\u001B[43mshow_cypher\u001B[49m\u001B[43m(\u001B[49m\u001B[33;43m\"\u001B[39;49m\u001B[33;43mMATCH p = (start_node \u001B[39;49m\u001B[33;43m{\u001B[39;49m\u001B[33;43mtype: \u001B[39;49m\u001B[33;43m'\u001B[39;49m\u001B[33;43msource\u001B[39;49m\u001B[33;43m'\u001B[39;49m\u001B[33;43m})-[]->(intermediate_node)-[]->(end_node \u001B[39;49m\u001B[33;43m{\u001B[39;49m\u001B[33;43mtype: \u001B[39;49m\u001B[33;43m'\u001B[39;49m\u001B[33;43mentities\u001B[39;49m\u001B[33;43m'\u001B[39;49m\u001B[33;43m}) RETURN start_node, end_node, p\u001B[39;49m\u001B[33;43m\"\u001B[39;49m\u001B[43m)\u001B[49m\n",
      "\u001B[36mFile \u001B[39m\u001B[32m~/scratch/biohack/.venv/lib/python3.13/site-packages/yfiles_jupyter_graphs_for_kuzu/Yfiles_Kuzu_Graphs.py:288\u001B[39m, in \u001B[36mKuzuGraphWidget.show_cypher\u001B[39m\u001B[34m(self, cypher, layout, **kwargs)\u001B[39m\n\u001B[32m    285\u001B[39m \u001B[38;5;66;03m# show directedness of relationships by default\u001B[39;00m\n\u001B[32m    286\u001B[39m widget.directed = \u001B[38;5;28;01mTrue\u001B[39;00m\n\u001B[32m--> \u001B[39m\u001B[32m288\u001B[39m query_result = \u001B[38;5;28;43mself\u001B[39;49m\u001B[43m.\u001B[49m\u001B[43m_connection\u001B[49m\u001B[43m.\u001B[49m\u001B[43mexecute\u001B[49m\u001B[43m(\u001B[49m\u001B[43mcypher\u001B[49m\u001B[43m,\u001B[49m\u001B[43m \u001B[49m\u001B[43m*\u001B[49m\u001B[43m*\u001B[49m\u001B[43mkwargs\u001B[49m\u001B[43m)\u001B[49m\n\u001B[32m    289\u001B[39m nodes, edges = \u001B[38;5;28mself\u001B[39m._parse_query_result(query_result)\n\u001B[32m    290\u001B[39m widget.nodes = nodes\n",
      "\u001B[36mFile \u001B[39m\u001B[32m~/scratch/biohack/.venv/lib/python3.13/site-packages/kuzu/connection.py:130\u001B[39m, in \u001B[36mConnection.execute\u001B[39m\u001B[34m(self, query, parameters)\u001B[39m\n\u001B[32m    127\u001B[39m     \u001B[38;5;28;01mraise\u001B[39;00m \u001B[38;5;167;01mRuntimeError\u001B[39;00m(msg)  \u001B[38;5;66;03m# noqa: TRY004\u001B[39;00m\n\u001B[32m    129\u001B[39m \u001B[38;5;28;01mif\u001B[39;00m \u001B[38;5;28mlen\u001B[39m(parameters) == \u001B[32m0\u001B[39m \u001B[38;5;129;01mand\u001B[39;00m \u001B[38;5;28misinstance\u001B[39m(query, \u001B[38;5;28mstr\u001B[39m):\n\u001B[32m--> \u001B[39m\u001B[32m130\u001B[39m     _query_result = \u001B[38;5;28;43mself\u001B[39;49m\u001B[43m.\u001B[49m\u001B[43m_connection\u001B[49m\u001B[43m.\u001B[49m\u001B[43mquery\u001B[49m\u001B[43m(\u001B[49m\u001B[43mquery\u001B[49m\u001B[43m)\u001B[49m\n\u001B[32m    131\u001B[39m \u001B[38;5;28;01melse\u001B[39;00m:\n\u001B[32m    132\u001B[39m     prepared_statement = \u001B[38;5;28mself\u001B[39m.prepare(query) \u001B[38;5;28;01mif\u001B[39;00m \u001B[38;5;28misinstance\u001B[39m(query, \u001B[38;5;28mstr\u001B[39m) \u001B[38;5;28;01melse\u001B[39;00m query\n",
      "\u001B[31mRuntimeError\u001B[39m: Binder exception: Cannot find property type for start_node."
     ]
    }
   ],
   "execution_count": 10
  },
  {
   "metadata": {},
   "cell_type": "code",
   "outputs": [],
   "execution_count": null,
   "source": "",
   "id": "8875901746bf6888"
  }
 ],
 "metadata": {
  "kernelspec": {
   "display_name": "Python 3",
   "language": "python",
   "name": "python3"
  },
  "language_info": {
   "codemirror_mode": {
    "name": "ipython",
    "version": 2
   },
   "file_extension": ".py",
   "mimetype": "text/x-python",
   "name": "python",
   "nbconvert_exporter": "python",
   "pygments_lexer": "ipython2",
   "version": "2.7.6"
  }
 },
 "nbformat": 4,
 "nbformat_minor": 5
}
